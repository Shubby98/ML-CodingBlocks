{
 "cells": [
  {
   "cell_type": "code",
   "execution_count": 1,
   "metadata": {},
   "outputs": [
    {
     "name": "stderr",
     "output_type": "stream",
     "text": [
      "Using TensorFlow backend.\n"
     ]
    }
   ],
   "source": [
    "import numpy as np\n",
    "import os\n",
    "from pathlib import Path\n",
    "from keras.preprocessing import image \n",
    "import matplotlib.pyplot as plt\n",
    "import pandas as pd"
   ]
  },
  {
   "cell_type": "code",
   "execution_count": 2,
   "metadata": {},
   "outputs": [],
   "source": [
    "labels = pd.read_csv(\"Train/train.csv\")"
   ]
  },
  {
   "cell_type": "code",
   "execution_count": 3,
   "metadata": {},
   "outputs": [
    {
     "data": {
      "text/plain": [
       "array(['298.jpg', 'Pikachu'], dtype=object)"
      ]
     },
     "execution_count": 3,
     "metadata": {},
     "output_type": "execute_result"
    }
   ],
   "source": [
    "labels_array = np.array(labels.values)\n",
    "labels_array[2]"
   ]
  },
  {
   "cell_type": "code",
   "execution_count": 4,
   "metadata": {},
   "outputs": [
    {
     "name": "stdout",
     "output_type": "stream",
     "text": [
      "(304, 2)\n"
     ]
    }
   ],
   "source": [
    "m = labels_array.shape\n",
    "print(m)\n",
    "labels_dict = {}\n",
    "for img_data in labels_array:\n",
    "    labels_dict[img_data[0]] = img_data[1]"
   ]
  },
  {
   "cell_type": "code",
   "execution_count": 5,
   "metadata": {},
   "outputs": [
    {
     "name": "stderr",
     "output_type": "stream",
     "text": [
      "/usr/lib/python3/dist-packages/PIL/Image.py:918: UserWarning: Palette images with Transparency   expressed in bytes should be converted to RGBA images\n",
      "  'to RGBA images')\n"
     ]
    }
   ],
   "source": [
    "p = Path(\"Train/Images\")\n",
    "\n",
    "dirs = p.glob(\"*\")\n",
    "\n",
    "labels_id = {\"Bulbasaur\" : 0 ,\"Pikachu\" : 1, \"Charmander\" : 2}\n",
    "image_data = []\n",
    "labels_data = []\n",
    "\n",
    "for img_path in dirs:\n",
    "    labels_name = str(img_path).split(\"/\")[-1]\n",
    "    img = image.load_img(img_path,target_size=(50,50))\n",
    "    img_array = image.img_to_array(img)\n",
    "    image_data.append(img_array)\n",
    "    lid = labels_dict[labels_name] \n",
    "    labels_data.append(labels_id[lid])\n"
   ]
  },
  {
   "cell_type": "code",
   "execution_count": 6,
   "metadata": {},
   "outputs": [
    {
     "name": "stdout",
     "output_type": "stream",
     "text": [
      "(7500,) (304, 1)\n"
     ]
    }
   ],
   "source": [
    "image_data = np.array(image_data,dtype = 'float32')\n",
    "labels_data = np.array(labels_data)\n",
    "labels_data = labels_data.reshape(-1,1)\n",
    "image_data = image_data.reshape(304,-1)\n",
    "print(image_data[1].shape,labels_data.shape)"
   ]
  },
  {
   "cell_type": "code",
   "execution_count": 7,
   "metadata": {},
   "outputs": [
    {
     "name": "stdout",
     "output_type": "stream",
     "text": [
      "(304, 7500)\n"
     ]
    }
   ],
   "source": [
    "X = np.array(image_data)\n",
    "Y = np.array(labels_data)\n",
    "X = X/255.0\n",
    "print(X.shape)"
   ]
  },
  {
   "cell_type": "code",
   "execution_count": 8,
   "metadata": {},
   "outputs": [],
   "source": [
    "def drawImg(img):\n",
    "    plt.imshow(img)\n",
    "    plt.show()\n",
    "    return"
   ]
  },
  {
   "cell_type": "markdown",
   "metadata": {},
   "source": [
    "# Testing Data"
   ]
  },
  {
   "cell_type": "code",
   "execution_count": 9,
   "metadata": {},
   "outputs": [
    {
     "data": {
      "text/plain": [
       "array(['1131.jpg'], dtype=object)"
      ]
     },
     "execution_count": 9,
     "metadata": {},
     "output_type": "execute_result"
    }
   ],
   "source": [
    "Test_labels = pd.read_csv(\"Test/test.csv\")\n",
    "Test_labels_array = np.array(Test_labels.values)\n",
    "Test_labels_array[2]"
   ]
  },
  {
   "cell_type": "code",
   "execution_count": 10,
   "metadata": {},
   "outputs": [],
   "source": [
    "p = Path(\"Test/Images\")\n",
    "\n",
    "test_dirs = p.glob(\"*\")\n",
    "\n",
    "test_image_data = {}\n",
    "\n",
    "for img_path in test_dirs:\n",
    "    labels_name = str(img_path).split(\"/\")[-1]\n",
    "    img = image.load_img(img_path,target_size=(50,50))\n",
    "    img_array = image.img_to_array(img)\n",
    "    img_array = img_array/255.0\n",
    "    img_array = img_array.reshape(1,-1)\n",
    "    test_image_data[labels_name] = img_array"
   ]
  },
  {
   "cell_type": "code",
   "execution_count": 11,
   "metadata": {},
   "outputs": [
    {
     "data": {
      "image/png": "[encoded data removed]",
      "text/plain": [
       "<matplotlib.figure.Figure at 0x7fb747741dd8>"
      ]
     },
     "metadata": {
      "needs_background": "light"
     },
     "output_type": "display_data"
    }
   ],
   "source": [
    "drawImg(test_image_data['1131.jpg'])"
   ]
  },
  {
   "cell_type": "code",
   "execution_count": 12,
   "metadata": {},
   "outputs": [],
   "source": [
    "def one_hot(y,depth):\n",
    "    \n",
    "    m = y.shape[0]\n",
    "    y_oht = np.zeros((m,depth))\n",
    "    y_oht[np.arange(m),y] = 1\n",
    "    return y_oht"
   ]
  },
  {
   "cell_type": "code",
   "execution_count": 13,
   "metadata": {},
   "outputs": [],
   "source": [
    "Y_hot = []\n",
    "for i in Y:\n",
    "    #print(i)\n",
    "    Y_hot.append(one_hot(i,3))\n"
   ]
  },
  {
   "cell_type": "code",
   "execution_count": 14,
   "metadata": {},
   "outputs": [],
   "source": [
    "Y = np.array(Y_hot)\n",
    "Y = Y.reshape(304,3)"
   ]
  },
  {
   "cell_type": "markdown",
   "metadata": {},
   "source": [
    "# CNN "
   ]
  },
  {
   "cell_type": "code",
   "execution_count": 15,
   "metadata": {},
   "outputs": [],
   "source": [
    "from keras.layers import *\n",
    "from keras.models import Sequential"
   ]
  },
  {
   "cell_type": "code",
   "execution_count": 16,
   "metadata": {},
   "outputs": [
    {
     "name": "stderr",
     "output_type": "stream",
     "text": [
      "WARNING: Logging before flag parsing goes to stderr.\n",
      "W0805 21:43:41.647727 140426579060544 deprecation_wrapper.py:119] From /usr/local/lib/python3.6/dist-packages/Keras-2.2.4-py3.6.egg/keras/backend/tensorflow_backend.py:74: The name tf.get_default_graph is deprecated. Please use tf.compat.v1.get_default_graph instead.\n",
      "\n",
      "W0805 21:43:41.896221 140426579060544 deprecation_wrapper.py:119] From /usr/local/lib/python3.6/dist-packages/Keras-2.2.4-py3.6.egg/keras/backend/tensorflow_backend.py:529: The name tf.placeholder is deprecated. Please use tf.compat.v1.placeholder instead.\n",
      "\n",
      "W0805 21:43:41.981204 140426579060544 deprecation_wrapper.py:119] From /usr/local/lib/python3.6/dist-packages/Keras-2.2.4-py3.6.egg/keras/backend/tensorflow_backend.py:4420: The name tf.random_uniform is deprecated. Please use tf.random.uniform instead.\n",
      "\n"
     ]
    },
    {
     "name": "stdout",
     "output_type": "stream",
     "text": [
      "Model: \"sequential_1\"\n",
      "_________________________________________________________________\n",
      "Layer (type)                 Output Shape              Param #   \n",
      "=================================================================\n",
      "dense_1 (Dense)              (None, 64)                480064    \n",
      "_________________________________________________________________\n",
      "dense_2 (Dense)              (None, 64)                4160      \n",
      "_________________________________________________________________\n",
      "dense_3 (Dense)              (None, 3)                 195       \n",
      "=================================================================\n",
      "Total params: 484,419\n",
      "Trainable params: 484,419\n",
      "Non-trainable params: 0\n",
      "_________________________________________________________________\n"
     ]
    }
   ],
   "source": [
    "# Build a Model\n",
    "\n",
    "model = Sequential()\n",
    "model.add(Dense(64,activation = 'relu' , input_shape = (7500,)))\n",
    "model.add(Dense(64,activation = 'relu'))\n",
    "\n",
    "model.add(Dense(3,activation = 'softmax' ))\n",
    "model.summary()"
   ]
  },
  {
   "cell_type": "code",
   "execution_count": 17,
   "metadata": {},
   "outputs": [
    {
     "name": "stderr",
     "output_type": "stream",
     "text": [
      "W0805 21:43:42.054945 140426579060544 deprecation_wrapper.py:119] From /usr/local/lib/python3.6/dist-packages/Keras-2.2.4-py3.6.egg/keras/optimizers.py:793: The name tf.train.Optimizer is deprecated. Please use tf.compat.v1.train.Optimizer instead.\n",
      "\n",
      "W0805 21:43:42.112664 140426579060544 deprecation_wrapper.py:119] From /usr/local/lib/python3.6/dist-packages/Keras-2.2.4-py3.6.egg/keras/backend/tensorflow_backend.py:3564: The name tf.log is deprecated. Please use tf.math.log instead.\n",
      "\n",
      "W0805 21:43:42.441880 140426579060544 deprecation.py:323] From /home/shubby/.local/lib/python3.6/site-packages/tensorflow/python/ops/math_grad.py:1250: add_dispatch_support.<locals>.wrapper (from tensorflow.python.ops.array_ops) is deprecated and will be removed in a future version.\n",
      "Instructions for updating:\n",
      "Use tf.where in 2.0, which has the same broadcast rule as np.where\n",
      "W0805 21:43:42.489730 140426579060544 deprecation_wrapper.py:119] From /usr/local/lib/python3.6/dist-packages/Keras-2.2.4-py3.6.egg/keras/backend/tensorflow_backend.py:1021: The name tf.assign_add is deprecated. Please use tf.compat.v1.assign_add instead.\n",
      "\n"
     ]
    },
    {
     "name": "stdout",
     "output_type": "stream",
     "text": [
      "Epoch 1/200\n",
      "304/304 [==============================] - 2s 7ms/step - loss: 1.2061 - acc: 0.3947\n",
      "Epoch 2/200\n",
      "304/304 [==============================] - 0s 75us/step - loss: 2.3491 - acc: 0.3487\n",
      "Epoch 3/200\n",
      "304/304 [==============================] - 0s 78us/step - loss: 3.2895 - acc: 0.4375\n",
      "Epoch 4/200\n",
      "304/304 [==============================] - 0s 59us/step - loss: 5.2220 - acc: 0.3355\n",
      "Epoch 5/200\n",
      "304/304 [==============================] - 0s 88us/step - loss: 3.5627 - acc: 0.3421\n",
      "Epoch 6/200\n",
      "304/304 [==============================] - 0s 94us/step - loss: 0.7774 - acc: 0.6908\n",
      "Epoch 7/200\n",
      "304/304 [==============================] - 0s 78us/step - loss: 1.8828 - acc: 0.4770\n",
      "Epoch 8/200\n",
      "304/304 [==============================] - 0s 57us/step - loss: 2.0978 - acc: 0.5757\n",
      "Epoch 9/200\n",
      "304/304 [==============================] - 0s 72us/step - loss: 2.0770 - acc: 0.4605\n",
      "Epoch 10/200\n",
      "304/304 [==============================] - 0s 92us/step - loss: 1.5149 - acc: 0.6546\n",
      "Epoch 11/200\n",
      "304/304 [==============================] - 0s 71us/step - loss: 0.9158 - acc: 0.6711\n",
      "Epoch 12/200\n",
      "304/304 [==============================] - 0s 76us/step - loss: 0.9200 - acc: 0.5362\n",
      "Epoch 13/200\n",
      "304/304 [==============================] - 0s 80us/step - loss: 1.3246 - acc: 0.4671\n",
      "Epoch 14/200\n",
      "304/304 [==============================] - 0s 85us/step - loss: 0.8363 - acc: 0.5428\n",
      "Epoch 15/200\n",
      "304/304 [==============================] - 0s 79us/step - loss: 0.7067 - acc: 0.7270\n",
      "Epoch 16/200\n",
      "304/304 [==============================] - 0s 58us/step - loss: 0.8965 - acc: 0.7336\n",
      "Epoch 17/200\n",
      "304/304 [==============================] - 0s 71us/step - loss: 0.8861 - acc: 0.7566\n",
      "Epoch 18/200\n",
      "304/304 [==============================] - 0s 63us/step - loss: 0.7197 - acc: 0.7599\n",
      "Epoch 19/200\n",
      "304/304 [==============================] - 0s 54us/step - loss: 0.5806 - acc: 0.8092\n",
      "Epoch 20/200\n",
      "304/304 [==============================] - 0s 58us/step - loss: 0.6364 - acc: 0.6316\n",
      "Epoch 21/200\n",
      "304/304 [==============================] - 0s 54us/step - loss: 0.6426 - acc: 0.6316\n",
      "Epoch 22/200\n",
      "304/304 [==============================] - 0s 94us/step - loss: 0.5228 - acc: 0.7961\n",
      "Epoch 23/200\n",
      "304/304 [==============================] - 0s 49us/step - loss: 0.4899 - acc: 0.7993\n",
      "Epoch 24/200\n",
      "304/304 [==============================] - 0s 67us/step - loss: 0.5319 - acc: 0.7763\n",
      "Epoch 25/200\n",
      "304/304 [==============================] - 0s 71us/step - loss: 0.5286 - acc: 0.7829\n",
      "Epoch 26/200\n",
      "304/304 [==============================] - 0s 81us/step - loss: 0.4728 - acc: 0.8125\n",
      "Epoch 27/200\n",
      "304/304 [==============================] - 0s 74us/step - loss: 0.4254 - acc: 0.8947\n",
      "Epoch 28/200\n",
      "304/304 [==============================] - 0s 83us/step - loss: 0.4383 - acc: 0.7829\n",
      "Epoch 29/200\n",
      "304/304 [==============================] - 0s 89us/step - loss: 0.4369 - acc: 0.7895\n",
      "Epoch 30/200\n",
      "304/304 [==============================] - 0s 82us/step - loss: 0.4047 - acc: 0.9342\n",
      "Epoch 31/200\n",
      "304/304 [==============================] - 0s 80us/step - loss: 0.3966 - acc: 0.8454\n",
      "Epoch 32/200\n",
      "304/304 [==============================] - 0s 108us/step - loss: 0.3876 - acc: 0.8355\n",
      "Epoch 33/200\n",
      "304/304 [==============================] - 0s 86us/step - loss: 0.3722 - acc: 0.8717\n",
      "Epoch 34/200\n",
      "304/304 [==============================] - 0s 112us/step - loss: 0.3656 - acc: 0.9079\n",
      "Epoch 35/200\n",
      "304/304 [==============================] - 0s 97us/step - loss: 0.3587 - acc: 0.9243\n",
      "Epoch 36/200\n",
      "304/304 [==============================] - 0s 105us/step - loss: 0.3398 - acc: 0.9342\n",
      "Epoch 37/200\n",
      "304/304 [==============================] - 0s 69us/step - loss: 0.3254 - acc: 0.9309\n",
      "Epoch 38/200\n",
      "304/304 [==============================] - 0s 77us/step - loss: 0.3290 - acc: 0.9112\n",
      "Epoch 39/200\n",
      "304/304 [==============================] - 0s 75us/step - loss: 0.3203 - acc: 0.8947\n",
      "Epoch 40/200\n",
      "304/304 [==============================] - 0s 126us/step - loss: 0.2967 - acc: 0.9243\n",
      "Epoch 41/200\n",
      "304/304 [==============================] - 0s 74us/step - loss: 0.2883 - acc: 0.9507\n",
      "Epoch 42/200\n",
      "304/304 [==============================] - 0s 74us/step - loss: 0.2860 - acc: 0.9507\n",
      "Epoch 43/200\n",
      "304/304 [==============================] - 0s 91us/step - loss: 0.2691 - acc: 0.9507\n",
      "Epoch 44/200\n",
      "304/304 [==============================] - 0s 83us/step - loss: 0.2581 - acc: 0.9243\n",
      "Epoch 45/200\n",
      "304/304 [==============================] - 0s 90us/step - loss: 0.2541 - acc: 0.9342\n",
      "Epoch 46/200\n",
      "304/304 [==============================] - 0s 102us/step - loss: 0.2451 - acc: 0.9408\n",
      "Epoch 47/200\n",
      "304/304 [==============================] - 0s 51us/step - loss: 0.2402 - acc: 0.9572\n",
      "Epoch 48/200\n",
      "304/304 [==============================] - 0s 55us/step - loss: 0.2362 - acc: 0.9474\n",
      "Epoch 49/200\n",
      "304/304 [==============================] - 0s 75us/step - loss: 0.2248 - acc: 0.9638\n",
      "Epoch 50/200\n",
      "304/304 [==============================] - 0s 114us/step - loss: 0.2192 - acc: 0.9507\n",
      "Epoch 51/200\n",
      "304/304 [==============================] - 0s 80us/step - loss: 0.2154 - acc: 0.9375\n",
      "Epoch 52/200\n",
      "304/304 [==============================] - 0s 97us/step - loss: 0.2076 - acc: 0.9572\n",
      "Epoch 53/200\n",
      "304/304 [==============================] - 0s 72us/step - loss: 0.2029 - acc: 0.9638\n",
      "Epoch 54/200\n",
      "304/304 [==============================] - 0s 91us/step - loss: 0.1968 - acc: 0.9638\n",
      "Epoch 55/200\n",
      "304/304 [==============================] - 0s 93us/step - loss: 0.1914 - acc: 0.9572\n",
      "Epoch 56/200\n",
      "304/304 [==============================] - 0s 68us/step - loss: 0.1882 - acc: 0.9507\n",
      "Epoch 57/200\n",
      "304/304 [==============================] - 0s 91us/step - loss: 0.1820 - acc: 0.9572\n",
      "Epoch 58/200\n",
      "304/304 [==============================] - 0s 69us/step - loss: 0.1778 - acc: 0.9638\n",
      "Epoch 59/200\n",
      "304/304 [==============================] - 0s 77us/step - loss: 0.1739 - acc: 0.9671\n",
      "Epoch 60/200\n",
      "304/304 [==============================] - 0s 97us/step - loss: 0.1695 - acc: 0.9572\n",
      "Epoch 61/200\n",
      "304/304 [==============================] - 0s 56us/step - loss: 0.1665 - acc: 0.9539\n",
      "Epoch 62/200\n",
      "304/304 [==============================] - 0s 62us/step - loss: 0.1615 - acc: 0.9572\n",
      "Epoch 63/200\n",
      "304/304 [==============================] - 0s 75us/step - loss: 0.1569 - acc: 0.9638\n",
      "Epoch 64/200\n",
      "304/304 [==============================] - 0s 60us/step - loss: 0.1536 - acc: 0.9770\n",
      "Epoch 65/200\n",
      "304/304 [==============================] - 0s 55us/step - loss: 0.1497 - acc: 0.9770\n",
      "Epoch 66/200\n",
      "304/304 [==============================] - 0s 60us/step - loss: 0.1465 - acc: 0.9572\n",
      "Epoch 67/200\n",
      "304/304 [==============================] - 0s 52us/step - loss: 0.1426 - acc: 0.9638\n",
      "Epoch 68/200\n",
      "304/304 [==============================] - 0s 51us/step - loss: 0.1386 - acc: 0.9770\n",
      "Epoch 69/200\n",
      "304/304 [==============================] - 0s 45us/step - loss: 0.1356 - acc: 0.9770\n",
      "Epoch 70/200\n",
      "304/304 [==============================] - 0s 74us/step - loss: 0.1319 - acc: 0.9770\n",
      "Epoch 71/200\n",
      "304/304 [==============================] - 0s 73us/step - loss: 0.1279 - acc: 0.9704\n",
      "Epoch 72/200\n",
      "304/304 [==============================] - 0s 72us/step - loss: 0.1255 - acc: 0.9770\n",
      "Epoch 73/200\n",
      "304/304 [==============================] - 0s 61us/step - loss: 0.1218 - acc: 0.9737\n",
      "Epoch 74/200\n",
      "304/304 [==============================] - 0s 77us/step - loss: 0.1178 - acc: 0.9737\n",
      "Epoch 75/200\n",
      "304/304 [==============================] - 0s 60us/step - loss: 0.1148 - acc: 0.9770\n",
      "Epoch 76/200\n",
      "304/304 [==============================] - 0s 52us/step - loss: 0.1119 - acc: 0.9770\n",
      "Epoch 77/200\n",
      "304/304 [==============================] - 0s 55us/step - loss: 0.1085 - acc: 0.9770\n",
      "Epoch 78/200\n",
      "304/304 [==============================] - 0s 66us/step - loss: 0.1056 - acc: 0.9803\n",
      "Epoch 79/200\n",
      "304/304 [==============================] - 0s 72us/step - loss: 0.1030 - acc: 0.9770\n",
      "Epoch 80/200\n",
      "304/304 [==============================] - 0s 66us/step - loss: 0.0998 - acc: 0.9803\n",
      "Epoch 81/200\n",
      "304/304 [==============================] - 0s 57us/step - loss: 0.0972 - acc: 0.9770\n",
      "Epoch 82/200\n",
      "304/304 [==============================] - 0s 64us/step - loss: 0.0946 - acc: 0.9770\n",
      "Epoch 83/200\n",
      "304/304 [==============================] - 0s 54us/step - loss: 0.0921 - acc: 0.9803\n",
      "Epoch 84/200\n",
      "304/304 [==============================] - 0s 94us/step - loss: 0.0897 - acc: 0.9803\n"
     ]
    },
    {
     "name": "stdout",
     "output_type": "stream",
     "text": [
      "Epoch 85/200\n",
      "304/304 [==============================] - 0s 88us/step - loss: 0.0875 - acc: 0.9803\n",
      "Epoch 86/200\n",
      "304/304 [==============================] - 0s 90us/step - loss: 0.0852 - acc: 0.9803\n",
      "Epoch 87/200\n",
      "304/304 [==============================] - 0s 102us/step - loss: 0.0830 - acc: 0.9803\n",
      "Epoch 88/200\n",
      "304/304 [==============================] - 0s 89us/step - loss: 0.0809 - acc: 0.9803\n",
      "Epoch 89/200\n",
      "304/304 [==============================] - 0s 85us/step - loss: 0.0787 - acc: 0.9803\n",
      "Epoch 90/200\n",
      "304/304 [==============================] - 0s 65us/step - loss: 0.0772 - acc: 0.9836\n",
      "Epoch 91/200\n",
      "304/304 [==============================] - 0s 88us/step - loss: 0.0750 - acc: 0.9836\n",
      "Epoch 92/200\n",
      "304/304 [==============================] - 0s 97us/step - loss: 0.0730 - acc: 0.9868\n",
      "Epoch 93/200\n",
      "304/304 [==============================] - 0s 98us/step - loss: 0.0711 - acc: 0.9836\n",
      "Epoch 94/200\n",
      "304/304 [==============================] - 0s 67us/step - loss: 0.0693 - acc: 0.9836\n",
      "Epoch 95/200\n",
      "304/304 [==============================] - 0s 91us/step - loss: 0.0676 - acc: 0.9836\n",
      "Epoch 96/200\n",
      "304/304 [==============================] - 0s 85us/step - loss: 0.0658 - acc: 0.9868\n",
      "Epoch 97/200\n",
      "304/304 [==============================] - 0s 100us/step - loss: 0.0642 - acc: 0.9868\n",
      "Epoch 98/200\n",
      "304/304 [==============================] - 0s 91us/step - loss: 0.0628 - acc: 0.9836\n",
      "Epoch 99/200\n",
      "304/304 [==============================] - 0s 62us/step - loss: 0.0608 - acc: 0.9868\n",
      "Epoch 100/200\n",
      "304/304 [==============================] - 0s 96us/step - loss: 0.0596 - acc: 0.9868\n",
      "Epoch 101/200\n",
      "304/304 [==============================] - 0s 91us/step - loss: 0.0582 - acc: 0.9836\n",
      "Epoch 102/200\n",
      "304/304 [==============================] - 0s 74us/step - loss: 0.0565 - acc: 0.9868\n",
      "Epoch 103/200\n",
      "304/304 [==============================] - 0s 86us/step - loss: 0.0556 - acc: 0.9868\n",
      "Epoch 104/200\n",
      "304/304 [==============================] - 0s 82us/step - loss: 0.0538 - acc: 0.9901\n",
      "Epoch 105/200\n",
      "304/304 [==============================] - 0s 88us/step - loss: 0.0527 - acc: 0.9868\n",
      "Epoch 106/200\n",
      "304/304 [==============================] - 0s 63us/step - loss: 0.0512 - acc: 0.9967\n",
      "Epoch 107/200\n",
      "304/304 [==============================] - 0s 96us/step - loss: 0.0503 - acc: 0.9967\n",
      "Epoch 108/200\n",
      "304/304 [==============================] - 0s 101us/step - loss: 0.0489 - acc: 0.9967\n",
      "Epoch 109/200\n",
      "304/304 [==============================] - 0s 72us/step - loss: 0.0479 - acc: 0.9967\n",
      "Epoch 110/200\n",
      "304/304 [==============================] - 0s 73us/step - loss: 0.0467 - acc: 0.9967\n",
      "Epoch 111/200\n",
      "304/304 [==============================] - 0s 90us/step - loss: 0.0456 - acc: 0.9967\n",
      "Epoch 112/200\n",
      "304/304 [==============================] - 0s 71us/step - loss: 0.0446 - acc: 1.0000\n",
      "Epoch 113/200\n",
      "304/304 [==============================] - 0s 52us/step - loss: 0.0434 - acc: 1.0000\n",
      "Epoch 114/200\n",
      "304/304 [==============================] - 0s 70us/step - loss: 0.0425 - acc: 1.0000\n",
      "Epoch 115/200\n",
      "304/304 [==============================] - 0s 61us/step - loss: 0.0414 - acc: 1.0000\n",
      "Epoch 116/200\n",
      "304/304 [==============================] - 0s 68us/step - loss: 0.0405 - acc: 1.0000\n",
      "Epoch 117/200\n",
      "304/304 [==============================] - 0s 55us/step - loss: 0.0396 - acc: 1.0000\n",
      "Epoch 118/200\n",
      "304/304 [==============================] - 0s 62us/step - loss: 0.0387 - acc: 1.0000\n",
      "Epoch 119/200\n",
      "304/304 [==============================] - 0s 53us/step - loss: 0.0378 - acc: 1.0000\n",
      "Epoch 120/200\n",
      "304/304 [==============================] - 0s 65us/step - loss: 0.0369 - acc: 1.0000\n",
      "Epoch 121/200\n",
      "304/304 [==============================] - 0s 52us/step - loss: 0.0362 - acc: 1.0000\n",
      "Epoch 122/200\n",
      "304/304 [==============================] - 0s 68us/step - loss: 0.0354 - acc: 1.0000\n",
      "Epoch 123/200\n",
      "304/304 [==============================] - 0s 57us/step - loss: 0.0346 - acc: 1.0000\n",
      "Epoch 124/200\n",
      "304/304 [==============================] - 0s 62us/step - loss: 0.0339 - acc: 1.0000\n",
      "Epoch 125/200\n",
      "304/304 [==============================] - 0s 63us/step - loss: 0.0331 - acc: 1.0000\n",
      "Epoch 126/200\n",
      "304/304 [==============================] - 0s 60us/step - loss: 0.0326 - acc: 1.0000\n",
      "Epoch 127/200\n",
      "304/304 [==============================] - 0s 58us/step - loss: 0.0317 - acc: 1.0000\n",
      "Epoch 128/200\n",
      "304/304 [==============================] - 0s 68us/step - loss: 0.0313 - acc: 1.0000\n",
      "Epoch 129/200\n",
      "304/304 [==============================] - 0s 65us/step - loss: 0.0305 - acc: 1.0000\n",
      "Epoch 130/200\n",
      "304/304 [==============================] - 0s 68us/step - loss: 0.0298 - acc: 1.0000\n",
      "Epoch 131/200\n",
      "304/304 [==============================] - 0s 63us/step - loss: 0.0292 - acc: 1.0000\n",
      "Epoch 132/200\n",
      "304/304 [==============================] - 0s 69us/step - loss: 0.0286 - acc: 1.0000\n",
      "Epoch 133/200\n",
      "304/304 [==============================] - 0s 61us/step - loss: 0.0280 - acc: 1.0000\n",
      "Epoch 134/200\n",
      "304/304 [==============================] - 0s 71us/step - loss: 0.0273 - acc: 1.0000\n",
      "Epoch 135/200\n",
      "304/304 [==============================] - 0s 65us/step - loss: 0.0268 - acc: 1.0000\n",
      "Epoch 136/200\n",
      "304/304 [==============================] - 0s 62us/step - loss: 0.0262 - acc: 1.0000\n",
      "Epoch 137/200\n",
      "304/304 [==============================] - 0s 60us/step - loss: 0.0257 - acc: 1.0000\n",
      "Epoch 138/200\n",
      "304/304 [==============================] - 0s 68us/step - loss: 0.0251 - acc: 1.0000\n",
      "Epoch 139/200\n",
      "304/304 [==============================] - 0s 63us/step - loss: 0.0248 - acc: 1.0000\n",
      "Epoch 140/200\n",
      "304/304 [==============================] - 0s 66us/step - loss: 0.0241 - acc: 1.0000\n",
      "Epoch 141/200\n",
      "304/304 [==============================] - 0s 65us/step - loss: 0.0238 - acc: 1.0000\n",
      "Epoch 142/200\n",
      "304/304 [==============================] - 0s 66us/step - loss: 0.0232 - acc: 1.0000\n",
      "Epoch 143/200\n",
      "304/304 [==============================] - 0s 61us/step - loss: 0.0227 - acc: 1.0000\n",
      "Epoch 144/200\n",
      "304/304 [==============================] - 0s 64us/step - loss: 0.0222 - acc: 1.0000\n",
      "Epoch 145/200\n",
      "304/304 [==============================] - 0s 72us/step - loss: 0.0218 - acc: 1.0000\n",
      "Epoch 146/200\n",
      "304/304 [==============================] - 0s 76us/step - loss: 0.0214 - acc: 1.0000\n",
      "Epoch 147/200\n",
      "304/304 [==============================] - 0s 64us/step - loss: 0.0209 - acc: 1.0000\n",
      "Epoch 148/200\n",
      "304/304 [==============================] - 0s 85us/step - loss: 0.0205 - acc: 1.0000\n",
      "Epoch 149/200\n",
      "304/304 [==============================] - 0s 61us/step - loss: 0.0201 - acc: 1.0000\n",
      "Epoch 150/200\n",
      "304/304 [==============================] - 0s 65us/step - loss: 0.0197 - acc: 1.0000\n",
      "Epoch 151/200\n",
      "304/304 [==============================] - 0s 72us/step - loss: 0.0194 - acc: 1.0000\n",
      "Epoch 152/200\n",
      "304/304 [==============================] - 0s 70us/step - loss: 0.0190 - acc: 1.0000\n",
      "Epoch 153/200\n",
      "304/304 [==============================] - 0s 54us/step - loss: 0.0188 - acc: 1.0000\n",
      "Epoch 154/200\n",
      "304/304 [==============================] - 0s 58us/step - loss: 0.0183 - acc: 1.0000\n",
      "Epoch 155/200\n",
      "304/304 [==============================] - 0s 50us/step - loss: 0.0180 - acc: 1.0000\n",
      "Epoch 156/200\n",
      "304/304 [==============================] - 0s 51us/step - loss: 0.0176 - acc: 1.0000\n",
      "Epoch 157/200\n",
      "304/304 [==============================] - 0s 62us/step - loss: 0.0173 - acc: 1.0000\n",
      "Epoch 158/200\n",
      "304/304 [==============================] - 0s 63us/step - loss: 0.0170 - acc: 1.0000\n",
      "Epoch 159/200\n",
      "304/304 [==============================] - 0s 54us/step - loss: 0.0167 - acc: 1.0000\n",
      "Epoch 160/200\n",
      "304/304 [==============================] - 0s 78us/step - loss: 0.0165 - acc: 1.0000\n",
      "Epoch 161/200\n",
      "304/304 [==============================] - 0s 67us/step - loss: 0.0161 - acc: 1.0000\n",
      "Epoch 162/200\n",
      "304/304 [==============================] - 0s 64us/step - loss: 0.0159 - acc: 1.0000\n",
      "Epoch 163/200\n",
      "304/304 [==============================] - 0s 52us/step - loss: 0.0156 - acc: 1.0000\n",
      "Epoch 164/200\n",
      "304/304 [==============================] - 0s 78us/step - loss: 0.0153 - acc: 1.0000\n",
      "Epoch 165/200\n",
      "304/304 [==============================] - 0s 67us/step - loss: 0.0150 - acc: 1.0000\n",
      "Epoch 166/200\n",
      "304/304 [==============================] - 0s 71us/step - loss: 0.0147 - acc: 1.0000\n",
      "Epoch 167/200\n",
      "304/304 [==============================] - 0s 71us/step - loss: 0.0145 - acc: 1.0000\n"
     ]
    },
    {
     "name": "stdout",
     "output_type": "stream",
     "text": [
      "Epoch 168/200\n",
      "304/304 [==============================] - 0s 75us/step - loss: 0.0143 - acc: 1.0000\n",
      "Epoch 169/200\n",
      "304/304 [==============================] - 0s 84us/step - loss: 0.0140 - acc: 1.0000\n",
      "Epoch 170/200\n",
      "304/304 [==============================] - 0s 55us/step - loss: 0.0138 - acc: 1.0000\n",
      "Epoch 171/200\n",
      "304/304 [==============================] - 0s 54us/step - loss: 0.0135 - acc: 1.0000\n",
      "Epoch 172/200\n",
      "304/304 [==============================] - 0s 65us/step - loss: 0.0133 - acc: 1.0000\n",
      "Epoch 173/200\n",
      "304/304 [==============================] - 0s 64us/step - loss: 0.0131 - acc: 1.0000\n",
      "Epoch 174/200\n",
      "304/304 [==============================] - 0s 76us/step - loss: 0.0129 - acc: 1.0000\n",
      "Epoch 175/200\n",
      "304/304 [==============================] - 0s 65us/step - loss: 0.0127 - acc: 1.0000\n",
      "Epoch 176/200\n",
      "304/304 [==============================] - 0s 80us/step - loss: 0.0125 - acc: 1.0000\n",
      "Epoch 177/200\n",
      "304/304 [==============================] - 0s 63us/step - loss: 0.0123 - acc: 1.0000\n",
      "Epoch 178/200\n",
      "304/304 [==============================] - 0s 69us/step - loss: 0.0121 - acc: 1.0000\n",
      "Epoch 179/200\n",
      "304/304 [==============================] - 0s 70us/step - loss: 0.0119 - acc: 1.0000\n",
      "Epoch 180/200\n",
      "304/304 [==============================] - 0s 74us/step - loss: 0.0117 - acc: 1.0000\n",
      "Epoch 181/200\n",
      "304/304 [==============================] - 0s 53us/step - loss: 0.0115 - acc: 1.0000\n",
      "Epoch 182/200\n",
      "304/304 [==============================] - 0s 65us/step - loss: 0.0114 - acc: 1.0000\n",
      "Epoch 183/200\n",
      "304/304 [==============================] - 0s 74us/step - loss: 0.0112 - acc: 1.0000\n",
      "Epoch 184/200\n",
      "304/304 [==============================] - 0s 65us/step - loss: 0.0110 - acc: 1.0000\n",
      "Epoch 185/200\n",
      "304/304 [==============================] - 0s 56us/step - loss: 0.0109 - acc: 1.0000\n",
      "Epoch 186/200\n",
      "304/304 [==============================] - 0s 63us/step - loss: 0.0107 - acc: 1.0000\n",
      "Epoch 187/200\n",
      "304/304 [==============================] - 0s 70us/step - loss: 0.0105 - acc: 1.0000\n",
      "Epoch 188/200\n",
      "304/304 [==============================] - 0s 68us/step - loss: 0.0104 - acc: 1.0000\n",
      "Epoch 189/200\n",
      "304/304 [==============================] - 0s 59us/step - loss: 0.0102 - acc: 1.0000\n",
      "Epoch 190/200\n",
      "304/304 [==============================] - 0s 62us/step - loss: 0.0101 - acc: 1.0000\n",
      "Epoch 191/200\n",
      "304/304 [==============================] - 0s 68us/step - loss: 0.0099 - acc: 1.0000\n",
      "Epoch 192/200\n",
      "304/304 [==============================] - 0s 66us/step - loss: 0.0098 - acc: 1.0000\n",
      "Epoch 193/200\n",
      "304/304 [==============================] - 0s 58us/step - loss: 0.0096 - acc: 1.0000\n",
      "Epoch 194/200\n",
      "304/304 [==============================] - 0s 62us/step - loss: 0.0095 - acc: 1.0000\n",
      "Epoch 195/200\n",
      "304/304 [==============================] - 0s 58us/step - loss: 0.0094 - acc: 1.0000\n",
      "Epoch 196/200\n",
      "304/304 [==============================] - 0s 73us/step - loss: 0.0092 - acc: 1.0000\n",
      "Epoch 197/200\n",
      "304/304 [==============================] - 0s 62us/step - loss: 0.0091 - acc: 1.0000\n",
      "Epoch 198/200\n",
      "304/304 [==============================] - 0s 64us/step - loss: 0.0090 - acc: 1.0000\n",
      "Epoch 199/200\n",
      "304/304 [==============================] - 0s 59us/step - loss: 0.0088 - acc: 1.0000\n",
      "Epoch 200/200\n",
      "304/304 [==============================] - 0s 65us/step - loss: 0.0088 - acc: 1.0000\n"
     ]
    }
   ],
   "source": [
    "# Model Compilation\n",
    "model.compile(optimizer='adam',loss='categorical_crossentropy',metrics=['accuracy'])\n",
    "hist = model.fit(X,Y,epochs=200,batch_size=512)"
   ]
  },
  {
   "cell_type": "code",
   "execution_count": 18,
   "metadata": {},
   "outputs": [],
   "source": [
    "h = hist.history"
   ]
  },
  {
   "cell_type": "code",
   "execution_count": 19,
   "metadata": {},
   "outputs": [
    {
     "data": {
      "text/plain": [
       "dict_keys(['loss', 'acc'])"
      ]
     },
     "execution_count": 19,
     "metadata": {},
     "output_type": "execute_result"
    }
   ],
   "source": [
    "h.keys()"
   ]
  },
  {
   "cell_type": "code",
   "execution_count": 20,
   "metadata": {},
   "outputs": [
    {
     "data": {
      "text/plain": [
       "[<matplotlib.lines.Line2D at 0x7fb74402a898>]"
      ]
     },
     "execution_count": 20,
     "metadata": {},
     "output_type": "execute_result"
    },
    {
     "data": {
      "image/png": "[encoded data removed]",
      "text/plain": [
       "<matplotlib.figure.Figure at 0x7fb7455b9208>"
      ]
     },
     "metadata": {
      "needs_background": "light"
     },
     "output_type": "display_data"
    }
   ],
   "source": [
    "plt.plot(h['loss'])"
   ]
  },
  {
   "cell_type": "code",
   "execution_count": 21,
   "metadata": {},
   "outputs": [
    {
     "data": {
      "text/plain": [
       "[<matplotlib.lines.Line2D at 0x7fb73c2a09e8>]"
      ]
     },
     "execution_count": 21,
     "metadata": {},
     "output_type": "execute_result"
    },
    {
     "data": {
      "image/png": "[encoded data removed]",
      "text/plain": [
       "<matplotlib.figure.Figure at 0x7fb74405fa90>"
      ]
     },
     "metadata": {
      "needs_background": "light"
     },
     "output_type": "display_data"
    }
   ],
   "source": [
    "plt.plot(h['acc'])"
   ]
  },
  {
   "cell_type": "code",
   "execution_count": 22,
   "metadata": {},
   "outputs": [],
   "source": [
    "result = []\n",
    "rev_labels_id = {0 :\"Bulbasaur\"  , 1 : \"Pikachu\" ,2 : \"Charmander\" }\n",
    "for test_img in test_image_data:\n",
    "    #print(test_img)\n",
    "    img = test_image_data[test_img]\n",
    "    #img = img.reshape(1,-1)\n",
    "    pred = model.predict_classes(img)\n",
    "    label = rev_labels_id[pred[0]] \n",
    "    result.append([test_img,label])"
   ]
  },
  {
   "cell_type": "code",
   "execution_count": null,
   "metadata": {},
   "outputs": [],
   "source": []
  },
  {
   "cell_type": "code",
   "execution_count": 23,
   "metadata": {},
   "outputs": [
    {
     "data": {
      "text/plain": [
       "[['1100.jpg', 'Bulbasaur'],\n",
       " ['1101.jpg', 'Bulbasaur'],\n",
       " ['1102.jpg', 'Bulbasaur'],\n",
       " ['1103.jpg', 'Bulbasaur'],\n",
       " ['1104.jpg', 'Bulbasaur'],\n",
       " ['1105.jpg', 'Bulbasaur'],\n",
       " ['1106.jpg', 'Bulbasaur'],\n",
       " ['1107.jpg', 'Bulbasaur'],\n",
       " ['1108.jpg', 'Bulbasaur'],\n",
       " ['1109.jpg', 'Bulbasaur'],\n",
       " ['1110.jpg', 'Bulbasaur'],\n",
       " ['1111.jpg', 'Bulbasaur'],\n",
       " ['1112.jpg', 'Bulbasaur'],\n",
       " ['1113.jpg', 'Bulbasaur'],\n",
       " ['1114.jpg', 'Bulbasaur'],\n",
       " ['1115.jpg', 'Bulbasaur'],\n",
       " ['1116.jpg', 'Bulbasaur'],\n",
       " ['1117.jpg', 'Bulbasaur'],\n",
       " ['1118.jpg', 'Bulbasaur'],\n",
       " ['1120.jpg', 'Bulbasaur'],\n",
       " ['1121.jpg', 'Bulbasaur'],\n",
       " ['1122.jpg', 'Bulbasaur'],\n",
       " ['1123.jpg', 'Bulbasaur'],\n",
       " ['1124.jpg', 'Bulbasaur'],\n",
       " ['1125.jpg', 'Bulbasaur'],\n",
       " ['1126.jpg', 'Bulbasaur'],\n",
       " ['1127.jpg', 'Bulbasaur'],\n",
       " ['1128.jpg', 'Bulbasaur'],\n",
       " ['1129.jpg', 'Bulbasaur'],\n",
       " ['1130.jpg', 'Bulbasaur'],\n",
       " ['1131.jpg', 'Bulbasaur'],\n",
       " ['1132.jpg', 'Bulbasaur'],\n",
       " ['1133.jpg', 'Bulbasaur'],\n",
       " ['1134.jpg', 'Bulbasaur'],\n",
       " ['1135.jpg', 'Bulbasaur'],\n",
       " ['1136.jpg', 'Bulbasaur'],\n",
       " ['1137.jpg', 'Bulbasaur'],\n",
       " ['1138.jpg', 'Bulbasaur'],\n",
       " ['1140.jpg', 'Bulbasaur'],\n",
       " ['2000.jpg', 'Pikachu'],\n",
       " ['2001.jpg', 'Pikachu'],\n",
       " ['2002.jpg', 'Pikachu'],\n",
       " ['2003.jpg', 'Pikachu'],\n",
       " ['2004.jpg', 'Pikachu'],\n",
       " ['2005.jpg', 'Pikachu'],\n",
       " ['2006.jpg', 'Pikachu'],\n",
       " ['2007.jpg', 'Pikachu'],\n",
       " ['2008.jpg', 'Pikachu'],\n",
       " ['2009.jpg', 'Bulbasaur'],\n",
       " ['2010.jpg', 'Pikachu'],\n",
       " ['2011.jpg', 'Pikachu'],\n",
       " ['2012.jpg', 'Pikachu'],\n",
       " ['2013.jpg', 'Pikachu'],\n",
       " ['2014.jpg', 'Pikachu'],\n",
       " ['2015.jpg', 'Pikachu'],\n",
       " ['2016.jpg', 'Pikachu'],\n",
       " ['2017.jpg', 'Pikachu'],\n",
       " ['2019.jpg', 'Charmander'],\n",
       " ['2020.jpg', 'Pikachu'],\n",
       " ['2021.jpg', 'Pikachu'],\n",
       " ['2022.jpg', 'Pikachu'],\n",
       " ['2023.jpg', 'Pikachu'],\n",
       " ['2024.jpg', 'Pikachu'],\n",
       " ['2025.jpg', 'Pikachu'],\n",
       " ['2026.jpg', 'Pikachu'],\n",
       " ['2027.jpg', 'Pikachu'],\n",
       " ['2028.jpg', 'Pikachu'],\n",
       " ['2029.jpg', 'Pikachu'],\n",
       " ['2030.jpg', 'Pikachu'],\n",
       " ['2031.jpg', 'Pikachu'],\n",
       " ['2032.jpg', 'Pikachu'],\n",
       " ['2033.jpg', 'Pikachu'],\n",
       " ['2034.jpg', 'Pikachu'],\n",
       " ['2035.jpg', 'Pikachu'],\n",
       " ['2036.jpg', 'Pikachu'],\n",
       " ['2037.jpg', 'Pikachu'],\n",
       " ['2039.jpg', 'Pikachu'],\n",
       " ['2040.jpg', 'Pikachu'],\n",
       " ['2200.jpg', 'Charmander'],\n",
       " ['2201.jpg', 'Charmander'],\n",
       " ['2202.jpg', 'Charmander'],\n",
       " ['2203.jpg', 'Charmander'],\n",
       " ['2204.jpg', 'Charmander'],\n",
       " ['2205.jpg', 'Charmander'],\n",
       " ['2206.jpg', 'Charmander'],\n",
       " ['2207.jpg', 'Charmander'],\n",
       " ['2208.jpg', 'Charmander'],\n",
       " ['2209.jpg', 'Charmander'],\n",
       " ['2210.jpg', 'Charmander'],\n",
       " ['2211.jpg', 'Charmander'],\n",
       " ['2212.jpg', 'Charmander'],\n",
       " ['2213.jpg', 'Charmander'],\n",
       " ['2214.jpg', 'Charmander'],\n",
       " ['2215.jpg', 'Charmander'],\n",
       " ['2216.jpg', 'Charmander'],\n",
       " ['2218.jpg', 'Charmander'],\n",
       " ['2219.jpg', 'Charmander'],\n",
       " ['2220.jpg', 'Charmander'],\n",
       " ['2221.jpg', 'Charmander'],\n",
       " ['2222.jpg', 'Charmander'],\n",
       " ['2223.jpg', 'Charmander'],\n",
       " ['2224.jpg', 'Charmander'],\n",
       " ['2225.jpg', 'Charmander'],\n",
       " ['2226.jpg', 'Charmander'],\n",
       " ['2227.jpg', 'Charmander'],\n",
       " ['2228.jpg', 'Charmander'],\n",
       " ['2229.jpg', 'Charmander'],\n",
       " ['2230.jpg', 'Charmander'],\n",
       " ['2231.jpg', 'Bulbasaur'],\n",
       " ['2232.jpg', 'Charmander'],\n",
       " ['2233.jpg', 'Charmander'],\n",
       " ['2234.jpg', 'Charmander'],\n",
       " ['2235.jpg', 'Charmander'],\n",
       " ['2236.jpg', 'Charmander'],\n",
       " ['2237.jpg', 'Charmander'],\n",
       " ['2238.jpg', 'Charmander'],\n",
       " ['2239.jpg', 'Charmander'],\n",
       " ['2240.jpg', 'Charmander'],\n",
       " ['1119.jpg', 'Bulbasaur'],\n",
       " ['1139.jpg', 'Bulbasaur'],\n",
       " ['2018.jpg', 'Pikachu'],\n",
       " ['2038.jpg', 'Pikachu'],\n",
       " ['2217.jpg', 'Charmander']]"
      ]
     },
     "execution_count": 23,
     "metadata": {},
     "output_type": "execute_result"
    }
   ],
   "source": [
    "result"
   ]
  },
  {
   "cell_type": "code",
   "execution_count": 24,
   "metadata": {},
   "outputs": [
    {
     "data": {
      "text/plain": [
       "array([2])"
      ]
     },
     "execution_count": 24,
     "metadata": {},
     "output_type": "execute_result"
    }
   ],
   "source": [
    "model.predict_classes(test_image_data['2214.jpg'])"
   ]
  },
  {
   "cell_type": "code",
   "execution_count": 25,
   "metadata": {},
   "outputs": [
    {
     "data": {
      "text/html": [
       "<div>\n",
       "<style scoped>\n",
       "    .dataframe tbody tr th:only-of-type {\n",
       "        vertical-align: middle;\n",
       "    }\n",
       "\n",
       "    .dataframe tbody tr th {\n",
       "        vertical-align: top;\n",
       "    }\n",
       "\n",
       "    .dataframe thead th {\n",
       "        text-align: right;\n",
       "    }\n",
       "</style>\n",
       "<table border=\"1\" class=\"dataframe\">\n",
       "  <thead>\n",
       "    <tr style=\"text-align: right;\">\n",
       "      <th></th>\n",
       "      <th>ImageId</th>\n",
       "      <th>NameOfPokemon</th>\n",
       "    </tr>\n",
       "  </thead>\n",
       "  <tbody>\n",
       "    <tr>\n",
       "      <th>0</th>\n",
       "      <td>1100.jpg</td>\n",
       "      <td>Bulbasaur</td>\n",
       "    </tr>\n",
       "    <tr>\n",
       "      <th>1</th>\n",
       "      <td>1101.jpg</td>\n",
       "      <td>Bulbasaur</td>\n",
       "    </tr>\n",
       "    <tr>\n",
       "      <th>2</th>\n",
       "      <td>1102.jpg</td>\n",
       "      <td>Bulbasaur</td>\n",
       "    </tr>\n",
       "    <tr>\n",
       "      <th>3</th>\n",
       "      <td>1103.jpg</td>\n",
       "      <td>Bulbasaur</td>\n",
       "    </tr>\n",
       "    <tr>\n",
       "      <th>4</th>\n",
       "      <td>1104.jpg</td>\n",
       "      <td>Bulbasaur</td>\n",
       "    </tr>\n",
       "  </tbody>\n",
       "</table>\n",
       "</div>"
      ],
      "text/plain": [
       "    ImageId NameOfPokemon\n",
       "0  1100.jpg     Bulbasaur\n",
       "1  1101.jpg     Bulbasaur\n",
       "2  1102.jpg     Bulbasaur\n",
       "3  1103.jpg     Bulbasaur\n",
       "4  1104.jpg     Bulbasaur"
      ]
     },
     "execution_count": 25,
     "metadata": {},
     "output_type": "execute_result"
    }
   ],
   "source": [
    "pred_result = pd.DataFrame(result,columns = [\"ImageId\" , \"NameOfPokemon\"])\n",
    "pred_result.head(5)"
   ]
  },
  {
   "cell_type": "code",
   "execution_count": 26,
   "metadata": {},
   "outputs": [],
   "source": [
    "pred_result.to_csv(\"Test/predMLP.csv\",index = False)"
   ]
  },
  {
   "cell_type": "code",
   "execution_count": 27,
   "metadata": {},
   "outputs": [],
   "source": [
    "test_file = pd.read_csv(\"Test/test.csv\") "
   ]
  },
  {
   "cell_type": "code",
   "execution_count": 28,
   "metadata": {},
   "outputs": [
    {
     "data": {
      "text/html": [
       "<div>\n",
       "<style scoped>\n",
       "    .dataframe tbody tr th:only-of-type {\n",
       "        vertical-align: middle;\n",
       "    }\n",
       "\n",
       "    .dataframe tbody tr th {\n",
       "        vertical-align: top;\n",
       "    }\n",
       "\n",
       "    .dataframe thead th {\n",
       "        text-align: right;\n",
       "    }\n",
       "</style>\n",
       "<table border=\"1\" class=\"dataframe\">\n",
       "  <thead>\n",
       "    <tr style=\"text-align: right;\">\n",
       "      <th></th>\n",
       "      <th>ImageId</th>\n",
       "    </tr>\n",
       "  </thead>\n",
       "  <tbody>\n",
       "    <tr>\n",
       "      <th>0</th>\n",
       "      <td>1106.jpg</td>\n",
       "    </tr>\n",
       "    <tr>\n",
       "      <th>1</th>\n",
       "      <td>2236.jpg</td>\n",
       "    </tr>\n",
       "    <tr>\n",
       "      <th>2</th>\n",
       "      <td>1131.jpg</td>\n",
       "    </tr>\n",
       "    <tr>\n",
       "      <th>3</th>\n",
       "      <td>2221.jpg</td>\n",
       "    </tr>\n",
       "    <tr>\n",
       "      <th>4</th>\n",
       "      <td>2011.jpg</td>\n",
       "    </tr>\n",
       "  </tbody>\n",
       "</table>\n",
       "</div>"
      ],
      "text/plain": [
       "    ImageId\n",
       "0  1106.jpg\n",
       "1  2236.jpg\n",
       "2  1131.jpg\n",
       "3  2221.jpg\n",
       "4  2011.jpg"
      ]
     },
     "execution_count": 28,
     "metadata": {},
     "output_type": "execute_result"
    }
   ],
   "source": [
    "test_file.head()"
   ]
  },
  {
   "cell_type": "code",
   "execution_count": 30,
   "metadata": {},
   "outputs": [],
   "source": [
    "dic = {}\n",
    "for [imageid , label] in result:\n",
    "    dic[imageid] = label"
   ]
  },
  {
   "cell_type": "code",
   "execution_count": 33,
   "metadata": {},
   "outputs": [],
   "source": [
    "pred = []\n",
    "for ids in test_file.values[:,0]:\n",
    "    pokemon = dic[ids]\n",
    "    pred.append([ids,pokemon])"
   ]
  },
  {
   "cell_type": "code",
   "execution_count": 34,
   "metadata": {},
   "outputs": [
    {
     "data": {
      "text/plain": [
       "[['1106.jpg', 'Bulbasaur'],\n",
       " ['2236.jpg', 'Charmander'],\n",
       " ['1131.jpg', 'Bulbasaur'],\n",
       " ['2221.jpg', 'Charmander'],\n",
       " ['2011.jpg', 'Pikachu'],\n",
       " ['2030.jpg', 'Pikachu'],\n",
       " ['2035.jpg', 'Pikachu'],\n",
       " ['1110.jpg', 'Bulbasaur'],\n",
       " ['1104.jpg', 'Bulbasaur'],\n",
       " ['2217.jpg', 'Charmander'],\n",
       " ['1111.jpg', 'Bulbasaur'],\n",
       " ['1100.jpg', 'Bulbasaur'],\n",
       " ['1112.jpg', 'Bulbasaur'],\n",
       " ['1138.jpg', 'Bulbasaur'],\n",
       " ['2238.jpg', 'Charmander'],\n",
       " ['2009.jpg', 'Bulbasaur'],\n",
       " ['2225.jpg', 'Charmander'],\n",
       " ['2240.jpg', 'Charmander'],\n",
       " ['2020.jpg', 'Pikachu'],\n",
       " ['2209.jpg', 'Charmander'],\n",
       " ['2029.jpg', 'Pikachu'],\n",
       " ['1114.jpg', 'Bulbasaur'],\n",
       " ['2201.jpg', 'Charmander'],\n",
       " ['1118.jpg', 'Bulbasaur'],\n",
       " ['2025.jpg', 'Pikachu'],\n",
       " ['2202.jpg', 'Charmander'],\n",
       " ['1117.jpg', 'Bulbasaur'],\n",
       " ['1119.jpg', 'Bulbasaur'],\n",
       " ['2000.jpg', 'Pikachu'],\n",
       " ['2007.jpg', 'Pikachu'],\n",
       " ['2039.jpg', 'Pikachu'],\n",
       " ['2017.jpg', 'Pikachu'],\n",
       " ['2215.jpg', 'Charmander'],\n",
       " ['1120.jpg', 'Bulbasaur'],\n",
       " ['2006.jpg', 'Pikachu'],\n",
       " ['1116.jpg', 'Bulbasaur'],\n",
       " ['1128.jpg', 'Bulbasaur'],\n",
       " ['1125.jpg', 'Bulbasaur'],\n",
       " ['2203.jpg', 'Charmander'],\n",
       " ['1133.jpg', 'Bulbasaur'],\n",
       " ['1137.jpg', 'Bulbasaur'],\n",
       " ['2220.jpg', 'Charmander'],\n",
       " ['2012.jpg', 'Pikachu'],\n",
       " ['2224.jpg', 'Charmander'],\n",
       " ['2206.jpg', 'Charmander'],\n",
       " ['1122.jpg', 'Bulbasaur'],\n",
       " ['2223.jpg', 'Charmander'],\n",
       " ['1102.jpg', 'Bulbasaur'],\n",
       " ['2234.jpg', 'Charmander'],\n",
       " ['2216.jpg', 'Charmander'],\n",
       " ['2016.jpg', 'Pikachu'],\n",
       " ['2227.jpg', 'Charmander'],\n",
       " ['2013.jpg', 'Pikachu'],\n",
       " ['1113.jpg', 'Bulbasaur'],\n",
       " ['2204.jpg', 'Charmander'],\n",
       " ['1101.jpg', 'Bulbasaur'],\n",
       " ['2208.jpg', 'Charmander'],\n",
       " ['2024.jpg', 'Pikachu'],\n",
       " ['2031.jpg', 'Pikachu'],\n",
       " ['2222.jpg', 'Charmander'],\n",
       " ['2211.jpg', 'Charmander'],\n",
       " ['2033.jpg', 'Pikachu'],\n",
       " ['2213.jpg', 'Charmander'],\n",
       " ['2231.jpg', 'Bulbasaur'],\n",
       " ['2001.jpg', 'Pikachu'],\n",
       " ['2040.jpg', 'Pikachu'],\n",
       " ['1127.jpg', 'Bulbasaur'],\n",
       " ['2023.jpg', 'Pikachu'],\n",
       " ['2015.jpg', 'Pikachu'],\n",
       " ['1121.jpg', 'Bulbasaur'],\n",
       " ['2232.jpg', 'Charmander'],\n",
       " ['1139.jpg', 'Bulbasaur'],\n",
       " ['1103.jpg', 'Bulbasaur'],\n",
       " ['2018.jpg', 'Pikachu'],\n",
       " ['2233.jpg', 'Charmander'],\n",
       " ['2212.jpg', 'Charmander'],\n",
       " ['2210.jpg', 'Charmander'],\n",
       " ['2228.jpg', 'Charmander'],\n",
       " ['2026.jpg', 'Pikachu'],\n",
       " ['1132.jpg', 'Bulbasaur'],\n",
       " ['2003.jpg', 'Pikachu'],\n",
       " ['1129.jpg', 'Bulbasaur'],\n",
       " ['2214.jpg', 'Charmander'],\n",
       " ['1123.jpg', 'Bulbasaur'],\n",
       " ['2004.jpg', 'Pikachu'],\n",
       " ['1136.jpg', 'Bulbasaur'],\n",
       " ['1140.jpg', 'Bulbasaur'],\n",
       " ['2226.jpg', 'Charmander'],\n",
       " ['2230.jpg', 'Charmander'],\n",
       " ['1135.jpg', 'Bulbasaur'],\n",
       " ['1105.jpg', 'Bulbasaur'],\n",
       " ['2237.jpg', 'Charmander'],\n",
       " ['1109.jpg', 'Bulbasaur'],\n",
       " ['2022.jpg', 'Pikachu'],\n",
       " ['2005.jpg', 'Pikachu'],\n",
       " ['2218.jpg', 'Charmander'],\n",
       " ['2036.jpg', 'Pikachu'],\n",
       " ['1115.jpg', 'Bulbasaur'],\n",
       " ['2032.jpg', 'Pikachu'],\n",
       " ['2200.jpg', 'Charmander'],\n",
       " ['1134.jpg', 'Bulbasaur'],\n",
       " ['1130.jpg', 'Bulbasaur'],\n",
       " ['1107.jpg', 'Bulbasaur'],\n",
       " ['2034.jpg', 'Pikachu'],\n",
       " ['2205.jpg', 'Charmander'],\n",
       " ['2008.jpg', 'Pikachu'],\n",
       " ['2027.jpg', 'Pikachu'],\n",
       " ['2028.jpg', 'Pikachu'],\n",
       " ['2239.jpg', 'Charmander'],\n",
       " ['1108.jpg', 'Bulbasaur'],\n",
       " ['2010.jpg', 'Pikachu'],\n",
       " ['2229.jpg', 'Charmander'],\n",
       " ['2219.jpg', 'Charmander'],\n",
       " ['2019.jpg', 'Charmander'],\n",
       " ['2207.jpg', 'Charmander'],\n",
       " ['2002.jpg', 'Pikachu'],\n",
       " ['2037.jpg', 'Pikachu'],\n",
       " ['2038.jpg', 'Pikachu'],\n",
       " ['1124.jpg', 'Bulbasaur'],\n",
       " ['2014.jpg', 'Pikachu'],\n",
       " ['2235.jpg', 'Charmander'],\n",
       " ['1126.jpg', 'Bulbasaur'],\n",
       " ['2021.jpg', 'Pikachu']]"
      ]
     },
     "execution_count": 34,
     "metadata": {},
     "output_type": "execute_result"
    }
   ],
   "source": [
    "pred"
   ]
  },
  {
   "cell_type": "code",
   "execution_count": 37,
   "metadata": {},
   "outputs": [],
   "source": [
    "pred_corr.to_csv(\"Test/predMLPcorr.csv\",index = False)"
   ]
  },
  {
   "cell_type": "code",
   "execution_count": 36,
   "metadata": {},
   "outputs": [
    {
     "data": {
      "text/html": [
       "<div>\n",
       "<style scoped>\n",
       "    .dataframe tbody tr th:only-of-type {\n",
       "        vertical-align: middle;\n",
       "    }\n",
       "\n",
       "    .dataframe tbody tr th {\n",
       "        vertical-align: top;\n",
       "    }\n",
       "\n",
       "    .dataframe thead th {\n",
       "        text-align: right;\n",
       "    }\n",
       "</style>\n",
       "<table border=\"1\" class=\"dataframe\">\n",
       "  <thead>\n",
       "    <tr style=\"text-align: right;\">\n",
       "      <th></th>\n",
       "      <th>ImageId</th>\n",
       "      <th>NameOfPokemon</th>\n",
       "    </tr>\n",
       "  </thead>\n",
       "  <tbody>\n",
       "    <tr>\n",
       "      <th>0</th>\n",
       "      <td>1106.jpg</td>\n",
       "      <td>Bulbasaur</td>\n",
       "    </tr>\n",
       "    <tr>\n",
       "      <th>1</th>\n",
       "      <td>2236.jpg</td>\n",
       "      <td>Charmander</td>\n",
       "    </tr>\n",
       "    <tr>\n",
       "      <th>2</th>\n",
       "      <td>1131.jpg</td>\n",
       "      <td>Bulbasaur</td>\n",
       "    </tr>\n",
       "    <tr>\n",
       "      <th>3</th>\n",
       "      <td>2221.jpg</td>\n",
       "      <td>Charmander</td>\n",
       "    </tr>\n",
       "    <tr>\n",
       "      <th>4</th>\n",
       "      <td>2011.jpg</td>\n",
       "      <td>Pikachu</td>\n",
       "    </tr>\n",
       "  </tbody>\n",
       "</table>\n",
       "</div>"
      ],
      "text/plain": [
       "    ImageId NameOfPokemon\n",
       "0  1106.jpg     Bulbasaur\n",
       "1  2236.jpg    Charmander\n",
       "2  1131.jpg     Bulbasaur\n",
       "3  2221.jpg    Charmander\n",
       "4  2011.jpg       Pikachu"
      ]
     },
     "execution_count": 36,
     "metadata": {},
     "output_type": "execute_result"
    }
   ],
   "source": [
    "pred_corr = pd.DataFrame(pred,columns = [\"ImageId\" , \"NameOfPokemon\"])\n",
    "pred_corr.head(5)"
   ]
  },
  {
   "cell_type": "code",
   "execution_count": null,
   "metadata": {},
   "outputs": [],
   "source": []
  }
 ],
 "metadata": {
  "kernelspec": {
   "display_name": "Python 3",
   "language": "python",
   "name": "python3"
  },
  "language_info": {
   "codemirror_mode": {
    "name": "ipython",
    "version": 3
   },
   "file_extension": ".py",
   "mimetype": "text/x-python",
   "name": "python",
   "nbconvert_exporter": "python",
   "pygments_lexer": "ipython3",
   "version": "3.6.8"
  }
 },
 "nbformat": 4,
 "nbformat_minor": 2
}
