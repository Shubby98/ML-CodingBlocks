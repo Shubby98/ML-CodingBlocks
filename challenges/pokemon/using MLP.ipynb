{
 "cells": [
  {
   "cell_type": "code",
   "execution_count": 1,
   "metadata": {},
   "outputs": [
    {
     "name": "stderr",
     "output_type": "stream",
     "text": [
      "Using TensorFlow backend.\n"
     ]
    }
   ],
   "source": [
    "import numpy as np\n",
    "import os\n",
    "from pathlib import Path\n",
    "from keras.preprocessing import image \n",
    "import matplotlib.pyplot as plt\n",
    "import pandas as pd"
   ]
  },
  {
   "cell_type": "code",
   "execution_count": 41,
   "metadata": {},
   "outputs": [],
   "source": [
    "labels = pd.read_csv(\"Train/train.csv\")"
   ]
  },
  {
   "cell_type": "code",
   "execution_count": 42,
   "metadata": {},
   "outputs": [
    {
     "data": {
      "text/plain": [
       "array(['298.jpg', 'Pikachu'], dtype=object)"
      ]
     },
     "execution_count": 42,
     "metadata": {},
     "output_type": "execute_result"
    }
   ],
   "source": [
    "labels_array = np.array(labels.values)\n",
    "labels_array[2]"
   ]
  },
  {
   "cell_type": "code",
   "execution_count": 43,
   "metadata": {},
   "outputs": [
    {
     "name": "stdout",
     "output_type": "stream",
     "text": [
      "(304, 2)\n"
     ]
    }
   ],
   "source": [
    "m = labels_array.shape\n",
    "print(m)\n",
    "labels_dict = {}\n",
    "for img_data in labels_array:\n",
    "    labels_dict[img_data[0]] = img_data[1]"
   ]
  },
  {
   "cell_type": "code",
   "execution_count": 44,
   "metadata": {},
   "outputs": [],
   "source": [
    "p = Path(\"Train/Images\")\n",
    "\n",
    "dirs = p.glob(\"*\")\n",
    "\n",
    "labels_id = {\"Bulbasaur\" : 0 ,\"Pikachu\" : 1, \"Charmander\" : 2}\n",
    "image_data = []\n",
    "labels_data = []\n",
    "\n",
    "for img_path in dirs:\n",
    "    labels_name = str(img_path).split(\"/\")[-1]\n",
    "    img = image.load_img(img_path,target_size=(50,50))\n",
    "    img_array = image.img_to_array(img)\n",
    "    image_data.append(img_array)\n",
    "    lid = labels_dict[labels_name] \n",
    "    labels_data.append(labels_id[lid])\n"
   ]
  },
  {
   "cell_type": "code",
   "execution_count": 45,
   "metadata": {},
   "outputs": [
    {
     "name": "stdout",
     "output_type": "stream",
     "text": [
      "(7500,) (304, 1)\n"
     ]
    }
   ],
   "source": [
    "image_data = np.array(image_data,dtype = 'float32')\n",
    "labels_data = np.array(labels_data)\n",
    "labels_data = labels_data.reshape(-1,1)\n",
    "image_data = image_data.reshape(304,-1)\n",
    "print(image_data[1].shape,labels_data.shape)"
   ]
  },
  {
   "cell_type": "code",
   "execution_count": 48,
   "metadata": {},
   "outputs": [
    {
     "name": "stdout",
     "output_type": "stream",
     "text": [
      "(304, 7500)\n"
     ]
    }
   ],
   "source": [
    "X = np.array(image_data)\n",
    "Y = np.array(labels_data)\n",
    "X = X/255.0\n",
    "print(X.shape)"
   ]
  },
  {
   "cell_type": "code",
   "execution_count": 49,
   "metadata": {},
   "outputs": [],
   "source": [
    "def drawImg(img):\n",
    "    plt.imshow(img)\n",
    "    plt.show()\n",
    "    return"
   ]
  },
  {
   "cell_type": "markdown",
   "metadata": {},
   "source": [
    "# Testing Data"
   ]
  },
  {
   "cell_type": "code",
   "execution_count": 50,
   "metadata": {},
   "outputs": [
    {
     "data": {
      "text/plain": [
       "array(['1131.jpg'], dtype=object)"
      ]
     },
     "execution_count": 50,
     "metadata": {},
     "output_type": "execute_result"
    }
   ],
   "source": [
    "Test_labels = pd.read_csv(\"Test/test.csv\")\n",
    "Test_labels_array = np.array(Test_labels.values)\n",
    "Test_labels_array[2]"
   ]
  },
  {
   "cell_type": "code",
   "execution_count": 51,
   "metadata": {},
   "outputs": [],
   "source": [
    "p = Path(\"Test/Images\")\n",
    "\n",
    "test_dirs = p.glob(\"*\")\n",
    "\n",
    "test_image_data = {}\n",
    "\n",
    "for img_path in test_dirs:\n",
    "    labels_name = str(img_path).split(\"/\")[-1]\n",
    "    img = image.load_img(img_path,target_size=(50,50))\n",
    "    img_array = image.img_to_array(img)\n",
    "    img_array = img_array/255.0\n",
    "    img_array = img_array.reshape(1,-1)\n",
    "    test_image_data[labels_name] = img_array"
   ]
  },
  {
   "cell_type": "code",
   "execution_count": 52,
   "metadata": {},
   "outputs": [
    {
     "data": {
      "image/png": "[encoded data removed]",
      "text/plain": [
       "<matplotlib.figure.Figure at 0x7ff7d6b1cd30>"
      ]
     },
     "metadata": {
      "needs_background": "light"
     },
     "output_type": "display_data"
    }
   ],
   "source": [
    "drawImg(test_image_data['1131.jpg'])"
   ]
  },
  {
   "cell_type": "code",
   "execution_count": 53,
   "metadata": {},
   "outputs": [],
   "source": [
    "def one_hot(y,depth):\n",
    "    \n",
    "    m = y.shape[0]\n",
    "    y_oht = np.zeros((m,depth))\n",
    "    y_oht[np.arange(m),y] = 1\n",
    "    return y_oht"
   ]
  },
  {
   "cell_type": "code",
   "execution_count": 54,
   "metadata": {},
   "outputs": [],
   "source": [
    "Y_hot = []\n",
    "for i in Y:\n",
    "    #print(i)\n",
    "    Y_hot.append(one_hot(i,3))\n"
   ]
  },
  {
   "cell_type": "code",
   "execution_count": 58,
   "metadata": {},
   "outputs": [],
   "source": [
    "Y = np.array(Y_hot)\n",
    "Y = Y.reshape(304,3)"
   ]
  },
  {
   "cell_type": "markdown",
   "metadata": {},
   "source": [
    "# CNN "
   ]
  },
  {
   "cell_type": "code",
   "execution_count": 36,
   "metadata": {},
   "outputs": [],
   "source": [
    "from keras.layers import *\n",
    "from keras.models import Sequential"
   ]
  },
  {
   "cell_type": "code",
   "execution_count": 39,
   "metadata": {},
   "outputs": [
    {
     "name": "stdout",
     "output_type": "stream",
     "text": [
      "Model: \"sequential_2\"\n",
      "_________________________________________________________________\n",
      "Layer (type)                 Output Shape              Param #   \n",
      "=================================================================\n",
      "dense_4 (Dense)              (None, 64)                480064    \n",
      "_________________________________________________________________\n",
      "dense_5 (Dense)              (None, 64)                4160      \n",
      "_________________________________________________________________\n",
      "dense_6 (Dense)              (None, 3)                 195       \n",
      "=================================================================\n",
      "Total params: 484,419\n",
      "Trainable params: 484,419\n",
      "Non-trainable params: 0\n",
      "_________________________________________________________________\n"
     ]
    }
   ],
   "source": [
    "# Build a Model\n",
    "\n",
    "model = Sequential()\n",
    "model.add(Dense(64,activation = 'relu' , input_shape = (7500,)))\n",
    "model.add(Dense(64,activation = 'relu'))\n",
    "\n",
    "model.add(Dense(3,activation = 'softmax' ))\n",
    "model.summary()"
   ]
  },
  {
   "cell_type": "code",
   "execution_count": 59,
   "metadata": {},
   "outputs": [
    {
     "name": "stderr",
     "output_type": "stream",
     "text": [
      "W0801 20:57:13.527021 140703911077696 deprecation.py:323] From /home/shubby/.local/lib/python3.6/site-packages/tensorflow/python/ops/math_grad.py:1250: add_dispatch_support.<locals>.wrapper (from tensorflow.python.ops.array_ops) is deprecated and will be removed in a future version.\n",
      "Instructions for updating:\n",
      "Use tf.where in 2.0, which has the same broadcast rule as np.where\n",
      "W0801 20:57:13.570446 140703911077696 deprecation_wrapper.py:119] From /usr/local/lib/python3.6/dist-packages/Keras-2.2.4-py3.6.egg/keras/backend/tensorflow_backend.py:1021: The name tf.assign_add is deprecated. Please use tf.compat.v1.assign_add instead.\n",
      "\n"
     ]
    },
    {
     "name": "stdout",
     "output_type": "stream",
     "text": [
      "Epoch 1/200\n",
      "304/304 [==============================] - 0s 1ms/step - loss: 1.1051 - acc: 0.3947\n",
      "Epoch 2/200\n",
      "304/304 [==============================] - 0s 98us/step - loss: 3.4608 - acc: 0.3355\n",
      "Epoch 3/200\n",
      "304/304 [==============================] - 0s 60us/step - loss: 2.0674 - acc: 0.3355\n",
      "Epoch 4/200\n",
      "304/304 [==============================] - 0s 42us/step - loss: 3.4863 - acc: 0.3421\n",
      "Epoch 5/200\n",
      "304/304 [==============================] - 0s 55us/step - loss: 2.6659 - acc: 0.3783\n",
      "Epoch 6/200\n",
      "304/304 [==============================] - 0s 61us/step - loss: 1.0475 - acc: 0.4375\n",
      "Epoch 7/200\n",
      "304/304 [==============================] - 0s 70us/step - loss: 1.5494 - acc: 0.4868\n",
      "Epoch 8/200\n",
      "304/304 [==============================] - 0s 55us/step - loss: 1.7123 - acc: 0.5066\n",
      "Epoch 9/200\n",
      "304/304 [==============================] - 0s 65us/step - loss: 1.4588 - acc: 0.4803\n",
      "Epoch 10/200\n",
      "304/304 [==============================] - 0s 60us/step - loss: 0.9987 - acc: 0.5000\n",
      "Epoch 11/200\n",
      "304/304 [==============================] - 0s 47us/step - loss: 0.9255 - acc: 0.4671\n",
      "Epoch 12/200\n",
      "304/304 [==============================] - 0s 84us/step - loss: 1.0462 - acc: 0.4770\n",
      "Epoch 13/200\n",
      "304/304 [==============================] - 0s 59us/step - loss: 1.0339 - acc: 0.5296\n",
      "Epoch 14/200\n",
      "304/304 [==============================] - 0s 77us/step - loss: 0.9951 - acc: 0.4013\n",
      "Epoch 15/200\n",
      "304/304 [==============================] - 0s 67us/step - loss: 0.7574 - acc: 0.6875\n",
      "Epoch 16/200\n",
      "304/304 [==============================] - 0s 71us/step - loss: 0.7449 - acc: 0.7928\n",
      "Epoch 17/200\n",
      "304/304 [==============================] - 0s 70us/step - loss: 0.7941 - acc: 0.7270\n",
      "Epoch 18/200\n",
      "304/304 [==============================] - 0s 73us/step - loss: 0.7293 - acc: 0.7204\n",
      "Epoch 19/200\n",
      "304/304 [==============================] - 0s 82us/step - loss: 0.6176 - acc: 0.8454\n",
      "Epoch 20/200\n",
      "304/304 [==============================] - 0s 63us/step - loss: 0.6093 - acc: 0.8322\n",
      "Epoch 21/200\n",
      "304/304 [==============================] - 0s 73us/step - loss: 0.5906 - acc: 0.8158\n",
      "Epoch 22/200\n",
      "304/304 [==============================] - 0s 69us/step - loss: 0.5774 - acc: 0.7730\n",
      "Epoch 23/200\n",
      "304/304 [==============================] - 0s 59us/step - loss: 0.5059 - acc: 0.8553\n",
      "Epoch 24/200\n",
      "304/304 [==============================] - 0s 67us/step - loss: 0.4578 - acc: 0.9211\n",
      "Epoch 25/200\n",
      "304/304 [==============================] - 0s 80us/step - loss: 0.4674 - acc: 0.8421\n",
      "Epoch 26/200\n",
      "304/304 [==============================] - 0s 75us/step - loss: 0.4381 - acc: 0.8717\n",
      "Epoch 27/200\n",
      "304/304 [==============================] - 0s 76us/step - loss: 0.4029 - acc: 0.9046\n",
      "Epoch 28/200\n",
      "304/304 [==============================] - 0s 73us/step - loss: 0.3780 - acc: 0.9243\n",
      "Epoch 29/200\n",
      "304/304 [==============================] - 0s 68us/step - loss: 0.3648 - acc: 0.9079\n",
      "Epoch 30/200\n",
      "304/304 [==============================] - 0s 68us/step - loss: 0.3625 - acc: 0.9112\n",
      "Epoch 31/200\n",
      "304/304 [==============================] - 0s 86us/step - loss: 0.3218 - acc: 0.9309\n",
      "Epoch 32/200\n",
      "304/304 [==============================] - 0s 72us/step - loss: 0.3047 - acc: 0.9276\n",
      "Epoch 33/200\n",
      "304/304 [==============================] - 0s 69us/step - loss: 0.2980 - acc: 0.9211\n",
      "Epoch 34/200\n",
      "304/304 [==============================] - 0s 65us/step - loss: 0.2929 - acc: 0.9243\n",
      "Epoch 35/200\n",
      "304/304 [==============================] - 0s 78us/step - loss: 0.2747 - acc: 0.9474\n",
      "Epoch 36/200\n",
      "304/304 [==============================] - 0s 78us/step - loss: 0.2617 - acc: 0.9375\n",
      "Epoch 37/200\n",
      "304/304 [==============================] - 0s 53us/step - loss: 0.2590 - acc: 0.9408\n",
      "Epoch 38/200\n",
      "304/304 [==============================] - 0s 76us/step - loss: 0.2473 - acc: 0.9507\n",
      "Epoch 39/200\n",
      "304/304 [==============================] - 0s 66us/step - loss: 0.2350 - acc: 0.9638\n",
      "Epoch 40/200\n",
      "304/304 [==============================] - 0s 57us/step - loss: 0.2220 - acc: 0.9474\n",
      "Epoch 41/200\n",
      "304/304 [==============================] - 0s 65us/step - loss: 0.2205 - acc: 0.9441\n",
      "Epoch 42/200\n",
      "304/304 [==============================] - 0s 93us/step - loss: 0.2114 - acc: 0.9572\n",
      "Epoch 43/200\n",
      "304/304 [==============================] - 0s 57us/step - loss: 0.2039 - acc: 0.9737\n",
      "Epoch 44/200\n",
      "304/304 [==============================] - 0s 63us/step - loss: 0.1931 - acc: 0.9638\n",
      "Epoch 45/200\n",
      "304/304 [==============================] - 0s 52us/step - loss: 0.1906 - acc: 0.9572\n",
      "Epoch 46/200\n",
      "304/304 [==============================] - 0s 45us/step - loss: 0.1839 - acc: 0.9638\n",
      "Epoch 47/200\n",
      "304/304 [==============================] - 0s 45us/step - loss: 0.1711 - acc: 0.9770\n",
      "Epoch 48/200\n",
      "304/304 [==============================] - 0s 46us/step - loss: 0.1641 - acc: 0.9539\n",
      "Epoch 49/200\n",
      "304/304 [==============================] - 0s 37us/step - loss: 0.1706 - acc: 0.9671\n",
      "Epoch 50/200\n",
      "304/304 [==============================] - 0s 43us/step - loss: 0.1623 - acc: 0.9572\n",
      "Epoch 51/200\n",
      "304/304 [==============================] - 0s 41us/step - loss: 0.1513 - acc: 0.9638\n",
      "Epoch 52/200\n",
      "304/304 [==============================] - 0s 44us/step - loss: 0.1460 - acc: 0.9737\n",
      "Epoch 53/200\n",
      "304/304 [==============================] - 0s 37us/step - loss: 0.1417 - acc: 0.9605\n",
      "Epoch 54/200\n",
      "304/304 [==============================] - 0s 49us/step - loss: 0.1361 - acc: 0.9770\n",
      "Epoch 55/200\n",
      "304/304 [==============================] - 0s 49us/step - loss: 0.1276 - acc: 0.9803\n",
      "Epoch 56/200\n",
      "304/304 [==============================] - 0s 41us/step - loss: 0.1263 - acc: 0.9803\n",
      "Epoch 57/200\n",
      "304/304 [==============================] - 0s 39us/step - loss: 0.1201 - acc: 0.9770\n",
      "Epoch 58/200\n",
      "304/304 [==============================] - 0s 44us/step - loss: 0.1138 - acc: 0.9836\n",
      "Epoch 59/200\n",
      "304/304 [==============================] - 0s 44us/step - loss: 0.1077 - acc: 0.9836\n",
      "Epoch 60/200\n",
      "304/304 [==============================] - 0s 44us/step - loss: 0.1062 - acc: 0.9836\n",
      "Epoch 61/200\n",
      "304/304 [==============================] - 0s 41us/step - loss: 0.1031 - acc: 0.9803\n",
      "Epoch 62/200\n",
      "304/304 [==============================] - 0s 44us/step - loss: 0.0953 - acc: 0.9836\n",
      "Epoch 63/200\n",
      "304/304 [==============================] - 0s 49us/step - loss: 0.0937 - acc: 0.9803\n",
      "Epoch 64/200\n",
      "304/304 [==============================] - 0s 40us/step - loss: 0.0907 - acc: 0.9868\n",
      "Epoch 65/200\n",
      "304/304 [==============================] - 0s 56us/step - loss: 0.0862 - acc: 0.9868\n",
      "Epoch 66/200\n",
      "304/304 [==============================] - 0s 45us/step - loss: 0.0841 - acc: 0.9868\n",
      "Epoch 67/200\n",
      "304/304 [==============================] - 0s 41us/step - loss: 0.0805 - acc: 0.9868\n",
      "Epoch 68/200\n",
      "304/304 [==============================] - 0s 45us/step - loss: 0.0763 - acc: 0.9901\n",
      "Epoch 69/200\n",
      "304/304 [==============================] - 0s 49us/step - loss: 0.0737 - acc: 0.9901\n",
      "Epoch 70/200\n",
      "304/304 [==============================] - 0s 46us/step - loss: 0.0724 - acc: 0.9836\n",
      "Epoch 71/200\n",
      "304/304 [==============================] - 0s 45us/step - loss: 0.0681 - acc: 0.9901\n",
      "Epoch 72/200\n",
      "304/304 [==============================] - 0s 44us/step - loss: 0.0655 - acc: 0.9901\n",
      "Epoch 73/200\n",
      "304/304 [==============================] - 0s 50us/step - loss: 0.0637 - acc: 0.9901\n",
      "Epoch 74/200\n",
      "304/304 [==============================] - 0s 49us/step - loss: 0.0609 - acc: 0.9934\n",
      "Epoch 75/200\n",
      "304/304 [==============================] - 0s 40us/step - loss: 0.0582 - acc: 0.9901\n",
      "Epoch 76/200\n",
      "304/304 [==============================] - 0s 47us/step - loss: 0.0560 - acc: 0.9901\n",
      "Epoch 77/200\n",
      "304/304 [==============================] - 0s 48us/step - loss: 0.0535 - acc: 0.9901\n",
      "Epoch 78/200\n",
      "304/304 [==============================] - 0s 44us/step - loss: 0.0515 - acc: 0.9934\n",
      "Epoch 79/200\n",
      "304/304 [==============================] - 0s 50us/step - loss: 0.0495 - acc: 0.9901\n",
      "Epoch 80/200\n",
      "304/304 [==============================] - 0s 64us/step - loss: 0.0473 - acc: 0.9901\n",
      "Epoch 81/200\n",
      "304/304 [==============================] - 0s 70us/step - loss: 0.0455 - acc: 0.9934\n",
      "Epoch 82/200\n",
      "304/304 [==============================] - 0s 69us/step - loss: 0.0438 - acc: 0.9901\n",
      "Epoch 83/200\n",
      "304/304 [==============================] - 0s 72us/step - loss: 0.0415 - acc: 0.9901\n",
      "Epoch 84/200\n",
      "304/304 [==============================] - 0s 69us/step - loss: 0.0393 - acc: 0.9934\n"
     ]
    },
    {
     "name": "stdout",
     "output_type": "stream",
     "text": [
      "Epoch 85/200\n",
      "304/304 [==============================] - 0s 69us/step - loss: 0.0380 - acc: 0.9934\n",
      "Epoch 86/200\n",
      "304/304 [==============================] - 0s 73us/step - loss: 0.0361 - acc: 0.9934\n",
      "Epoch 87/200\n",
      "304/304 [==============================] - 0s 64us/step - loss: 0.0344 - acc: 0.9901\n",
      "Epoch 88/200\n",
      "304/304 [==============================] - 0s 95us/step - loss: 0.0329 - acc: 0.9934\n",
      "Epoch 89/200\n",
      "304/304 [==============================] - 0s 60us/step - loss: 0.0315 - acc: 0.9934\n",
      "Epoch 90/200\n",
      "304/304 [==============================] - 0s 65us/step - loss: 0.0300 - acc: 0.9934\n",
      "Epoch 91/200\n",
      "304/304 [==============================] - 0s 72us/step - loss: 0.0287 - acc: 0.9934\n",
      "Epoch 92/200\n",
      "304/304 [==============================] - 0s 48us/step - loss: 0.0275 - acc: 0.9934\n",
      "Epoch 93/200\n",
      "304/304 [==============================] - 0s 54us/step - loss: 0.0257 - acc: 0.9934\n",
      "Epoch 94/200\n",
      "304/304 [==============================] - 0s 53us/step - loss: 0.0237 - acc: 1.0000\n",
      "Epoch 95/200\n",
      "304/304 [==============================] - 0s 50us/step - loss: 0.0216 - acc: 1.0000\n",
      "Epoch 96/200\n",
      "304/304 [==============================] - 0s 65us/step - loss: 0.0192 - acc: 1.0000\n",
      "Epoch 97/200\n",
      "304/304 [==============================] - 0s 85us/step - loss: 0.0174 - acc: 1.0000\n",
      "Epoch 98/200\n",
      "304/304 [==============================] - 0s 64us/step - loss: 0.0163 - acc: 1.0000\n",
      "Epoch 99/200\n",
      "304/304 [==============================] - 0s 64us/step - loss: 0.0155 - acc: 1.0000\n",
      "Epoch 100/200\n",
      "304/304 [==============================] - 0s 62us/step - loss: 0.0146 - acc: 1.0000\n",
      "Epoch 101/200\n",
      "304/304 [==============================] - 0s 79us/step - loss: 0.0139 - acc: 1.0000\n",
      "Epoch 102/200\n",
      "304/304 [==============================] - 0s 52us/step - loss: 0.0134 - acc: 1.0000\n",
      "Epoch 103/200\n",
      "304/304 [==============================] - 0s 67us/step - loss: 0.0124 - acc: 1.0000\n",
      "Epoch 104/200\n",
      "304/304 [==============================] - 0s 67us/step - loss: 0.0118 - acc: 1.0000\n",
      "Epoch 105/200\n",
      "304/304 [==============================] - 0s 58us/step - loss: 0.0113 - acc: 1.0000\n",
      "Epoch 106/200\n",
      "304/304 [==============================] - 0s 67us/step - loss: 0.0109 - acc: 1.0000\n",
      "Epoch 107/200\n",
      "304/304 [==============================] - 0s 71us/step - loss: 0.0104 - acc: 1.0000\n",
      "Epoch 108/200\n",
      "304/304 [==============================] - 0s 76us/step - loss: 0.0100 - acc: 1.0000\n",
      "Epoch 109/200\n",
      "304/304 [==============================] - 0s 62us/step - loss: 0.0096 - acc: 1.0000\n",
      "Epoch 110/200\n",
      "304/304 [==============================] - 0s 95us/step - loss: 0.0092 - acc: 1.0000\n",
      "Epoch 111/200\n",
      "304/304 [==============================] - 0s 55us/step - loss: 0.0090 - acc: 1.0000\n",
      "Epoch 112/200\n",
      "304/304 [==============================] - 0s 53us/step - loss: 0.0086 - acc: 1.0000\n",
      "Epoch 113/200\n",
      "304/304 [==============================] - 0s 53us/step - loss: 0.0083 - acc: 1.0000\n",
      "Epoch 114/200\n",
      "304/304 [==============================] - 0s 59us/step - loss: 0.0080 - acc: 1.0000\n",
      "Epoch 115/200\n",
      "304/304 [==============================] - 0s 79us/step - loss: 0.0077 - acc: 1.0000\n",
      "Epoch 116/200\n",
      "304/304 [==============================] - 0s 71us/step - loss: 0.0074 - acc: 1.0000\n",
      "Epoch 117/200\n",
      "304/304 [==============================] - 0s 53us/step - loss: 0.0072 - acc: 1.0000\n",
      "Epoch 118/200\n",
      "304/304 [==============================] - 0s 52us/step - loss: 0.0069 - acc: 1.0000\n",
      "Epoch 119/200\n",
      "304/304 [==============================] - 0s 56us/step - loss: 0.0066 - acc: 1.0000\n",
      "Epoch 120/200\n",
      "304/304 [==============================] - 0s 57us/step - loss: 0.0065 - acc: 1.0000\n",
      "Epoch 121/200\n",
      "304/304 [==============================] - 0s 55us/step - loss: 0.0063 - acc: 1.0000\n",
      "Epoch 122/200\n",
      "304/304 [==============================] - 0s 57us/step - loss: 0.0060 - acc: 1.0000\n",
      "Epoch 123/200\n",
      "304/304 [==============================] - 0s 58us/step - loss: 0.0059 - acc: 1.0000\n",
      "Epoch 124/200\n",
      "304/304 [==============================] - 0s 57us/step - loss: 0.0057 - acc: 1.0000\n",
      "Epoch 125/200\n",
      "304/304 [==============================] - 0s 56us/step - loss: 0.0055 - acc: 1.0000\n",
      "Epoch 126/200\n",
      "304/304 [==============================] - 0s 53us/step - loss: 0.0054 - acc: 1.0000\n",
      "Epoch 127/200\n",
      "304/304 [==============================] - 0s 55us/step - loss: 0.0052 - acc: 1.0000\n",
      "Epoch 128/200\n",
      "304/304 [==============================] - 0s 62us/step - loss: 0.0051 - acc: 1.0000\n",
      "Epoch 129/200\n",
      "304/304 [==============================] - 0s 49us/step - loss: 0.0050 - acc: 1.0000\n",
      "Epoch 130/200\n",
      "304/304 [==============================] - 0s 53us/step - loss: 0.0048 - acc: 1.0000\n",
      "Epoch 131/200\n",
      "304/304 [==============================] - 0s 56us/step - loss: 0.0047 - acc: 1.0000\n",
      "Epoch 132/200\n",
      "304/304 [==============================] - 0s 55us/step - loss: 0.0046 - acc: 1.0000\n",
      "Epoch 133/200\n",
      "304/304 [==============================] - 0s 58us/step - loss: 0.0045 - acc: 1.0000\n",
      "Epoch 134/200\n",
      "304/304 [==============================] - 0s 57us/step - loss: 0.0044 - acc: 1.0000\n",
      "Epoch 135/200\n",
      "304/304 [==============================] - 0s 56us/step - loss: 0.0043 - acc: 1.0000\n",
      "Epoch 136/200\n",
      "304/304 [==============================] - 0s 70us/step - loss: 0.0042 - acc: 1.0000\n",
      "Epoch 137/200\n",
      "304/304 [==============================] - 0s 57us/step - loss: 0.0041 - acc: 1.0000\n",
      "Epoch 138/200\n",
      "304/304 [==============================] - 0s 54us/step - loss: 0.0040 - acc: 1.0000\n",
      "Epoch 139/200\n",
      "304/304 [==============================] - 0s 54us/step - loss: 0.0039 - acc: 1.0000\n",
      "Epoch 140/200\n",
      "304/304 [==============================] - 0s 54us/step - loss: 0.0038 - acc: 1.0000\n",
      "Epoch 141/200\n",
      "304/304 [==============================] - 0s 54us/step - loss: 0.0037 - acc: 1.0000\n",
      "Epoch 142/200\n",
      "304/304 [==============================] - 0s 65us/step - loss: 0.0037 - acc: 1.0000\n",
      "Epoch 143/200\n",
      "304/304 [==============================] - 0s 53us/step - loss: 0.0036 - acc: 1.0000\n",
      "Epoch 144/200\n",
      "304/304 [==============================] - 0s 63us/step - loss: 0.0035 - acc: 1.0000\n",
      "Epoch 145/200\n",
      "304/304 [==============================] - 0s 55us/step - loss: 0.0035 - acc: 1.0000\n",
      "Epoch 146/200\n",
      "304/304 [==============================] - 0s 90us/step - loss: 0.0034 - acc: 1.0000\n",
      "Epoch 147/200\n",
      "304/304 [==============================] - 0s 72us/step - loss: 0.0033 - acc: 1.0000\n",
      "Epoch 148/200\n",
      "304/304 [==============================] - 0s 68us/step - loss: 0.0033 - acc: 1.0000\n",
      "Epoch 149/200\n",
      "304/304 [==============================] - 0s 67us/step - loss: 0.0032 - acc: 1.0000\n",
      "Epoch 150/200\n",
      "304/304 [==============================] - 0s 91us/step - loss: 0.0031 - acc: 1.0000\n",
      "Epoch 151/200\n",
      "304/304 [==============================] - 0s 68us/step - loss: 0.0031 - acc: 1.0000\n",
      "Epoch 152/200\n",
      "304/304 [==============================] - 0s 93us/step - loss: 0.0030 - acc: 1.0000\n",
      "Epoch 153/200\n",
      "304/304 [==============================] - 0s 52us/step - loss: 0.0030 - acc: 1.0000\n",
      "Epoch 154/200\n",
      "304/304 [==============================] - 0s 62us/step - loss: 0.0029 - acc: 1.0000\n",
      "Epoch 155/200\n",
      "304/304 [==============================] - 0s 54us/step - loss: 0.0029 - acc: 1.0000\n",
      "Epoch 156/200\n",
      "304/304 [==============================] - 0s 62us/step - loss: 0.0028 - acc: 1.0000\n",
      "Epoch 157/200\n",
      "304/304 [==============================] - 0s 63us/step - loss: 0.0028 - acc: 1.0000\n",
      "Epoch 158/200\n",
      "304/304 [==============================] - 0s 58us/step - loss: 0.0027 - acc: 1.0000\n",
      "Epoch 159/200\n",
      "304/304 [==============================] - 0s 57us/step - loss: 0.0027 - acc: 1.0000\n",
      "Epoch 160/200\n",
      "304/304 [==============================] - 0s 74us/step - loss: 0.0026 - acc: 1.0000\n",
      "Epoch 161/200\n",
      "304/304 [==============================] - 0s 71us/step - loss: 0.0026 - acc: 1.0000\n",
      "Epoch 162/200\n",
      "304/304 [==============================] - 0s 73us/step - loss: 0.0026 - acc: 1.0000\n",
      "Epoch 163/200\n",
      "304/304 [==============================] - 0s 61us/step - loss: 0.0025 - acc: 1.0000\n",
      "Epoch 164/200\n",
      "304/304 [==============================] - 0s 69us/step - loss: 0.0025 - acc: 1.0000\n",
      "Epoch 165/200\n",
      "304/304 [==============================] - 0s 68us/step - loss: 0.0024 - acc: 1.0000\n",
      "Epoch 166/200\n",
      "304/304 [==============================] - 0s 86us/step - loss: 0.0024 - acc: 1.0000\n",
      "Epoch 167/200\n",
      "304/304 [==============================] - 0s 69us/step - loss: 0.0024 - acc: 1.0000\n"
     ]
    },
    {
     "name": "stdout",
     "output_type": "stream",
     "text": [
      "Epoch 168/200\n",
      "304/304 [==============================] - 0s 104us/step - loss: 0.0023 - acc: 1.0000\n",
      "Epoch 169/200\n",
      "304/304 [==============================] - 0s 65us/step - loss: 0.0023 - acc: 1.0000\n",
      "Epoch 170/200\n",
      "304/304 [==============================] - 0s 81us/step - loss: 0.0023 - acc: 1.0000\n",
      "Epoch 171/200\n",
      "304/304 [==============================] - 0s 72us/step - loss: 0.0022 - acc: 1.0000\n",
      "Epoch 172/200\n",
      "304/304 [==============================] - 0s 76us/step - loss: 0.0022 - acc: 1.0000\n",
      "Epoch 173/200\n",
      "304/304 [==============================] - 0s 70us/step - loss: 0.0022 - acc: 1.0000\n",
      "Epoch 174/200\n",
      "304/304 [==============================] - 0s 65us/step - loss: 0.0021 - acc: 1.0000\n",
      "Epoch 175/200\n",
      "304/304 [==============================] - 0s 81us/step - loss: 0.0021 - acc: 1.0000\n",
      "Epoch 176/200\n",
      "304/304 [==============================] - 0s 71us/step - loss: 0.0021 - acc: 1.0000\n",
      "Epoch 177/200\n",
      "304/304 [==============================] - 0s 63us/step - loss: 0.0021 - acc: 1.0000\n",
      "Epoch 178/200\n",
      "304/304 [==============================] - 0s 86us/step - loss: 0.0020 - acc: 1.0000\n",
      "Epoch 179/200\n",
      "304/304 [==============================] - 0s 65us/step - loss: 0.0020 - acc: 1.0000\n",
      "Epoch 180/200\n",
      "304/304 [==============================] - 0s 62us/step - loss: 0.0020 - acc: 1.0000\n",
      "Epoch 181/200\n",
      "304/304 [==============================] - 0s 85us/step - loss: 0.0020 - acc: 1.0000\n",
      "Epoch 182/200\n",
      "304/304 [==============================] - 0s 55us/step - loss: 0.0019 - acc: 1.0000\n",
      "Epoch 183/200\n",
      "304/304 [==============================] - 0s 92us/step - loss: 0.0019 - acc: 1.0000\n",
      "Epoch 184/200\n",
      "304/304 [==============================] - 0s 69us/step - loss: 0.0019 - acc: 1.0000\n",
      "Epoch 185/200\n",
      "304/304 [==============================] - 0s 67us/step - loss: 0.0019 - acc: 1.0000\n",
      "Epoch 186/200\n",
      "304/304 [==============================] - 0s 68us/step - loss: 0.0018 - acc: 1.0000\n",
      "Epoch 187/200\n",
      "304/304 [==============================] - 0s 45us/step - loss: 0.0018 - acc: 1.0000\n",
      "Epoch 188/200\n",
      "304/304 [==============================] - 0s 61us/step - loss: 0.0018 - acc: 1.0000\n",
      "Epoch 189/200\n",
      "304/304 [==============================] - 0s 56us/step - loss: 0.0018 - acc: 1.0000\n",
      "Epoch 190/200\n",
      "304/304 [==============================] - 0s 58us/step - loss: 0.0018 - acc: 1.0000\n",
      "Epoch 191/200\n",
      "304/304 [==============================] - 0s 53us/step - loss: 0.0017 - acc: 1.0000\n",
      "Epoch 192/200\n",
      "304/304 [==============================] - 0s 73us/step - loss: 0.0017 - acc: 1.0000\n",
      "Epoch 193/200\n",
      "304/304 [==============================] - 0s 47us/step - loss: 0.0017 - acc: 1.0000\n",
      "Epoch 194/200\n",
      "304/304 [==============================] - 0s 53us/step - loss: 0.0017 - acc: 1.0000\n",
      "Epoch 195/200\n",
      "304/304 [==============================] - 0s 58us/step - loss: 0.0017 - acc: 1.0000\n",
      "Epoch 196/200\n",
      "304/304 [==============================] - 0s 50us/step - loss: 0.0016 - acc: 1.0000\n",
      "Epoch 197/200\n",
      "304/304 [==============================] - 0s 54us/step - loss: 0.0016 - acc: 1.0000\n",
      "Epoch 198/200\n",
      "304/304 [==============================] - 0s 58us/step - loss: 0.0016 - acc: 1.0000\n",
      "Epoch 199/200\n",
      "304/304 [==============================] - 0s 65us/step - loss: 0.0016 - acc: 1.0000\n",
      "Epoch 200/200\n",
      "304/304 [==============================] - 0s 65us/step - loss: 0.0016 - acc: 1.0000\n"
     ]
    }
   ],
   "source": [
    "# Model Compilation\n",
    "model.compile(optimizer='adam',loss='categorical_crossentropy',metrics=['accuracy'])\n",
    "hist = model.fit(X,Y,epochs=200,batch_size=512)"
   ]
  },
  {
   "cell_type": "code",
   "execution_count": 60,
   "metadata": {},
   "outputs": [],
   "source": [
    "h = hist.history"
   ]
  },
  {
   "cell_type": "code",
   "execution_count": 61,
   "metadata": {},
   "outputs": [
    {
     "data": {
      "text/plain": [
       "dict_keys(['loss', 'acc'])"
      ]
     },
     "execution_count": 61,
     "metadata": {},
     "output_type": "execute_result"
    }
   ],
   "source": [
    "h.keys()"
   ]
  },
  {
   "cell_type": "code",
   "execution_count": 62,
   "metadata": {},
   "outputs": [
    {
     "data": {
      "text/plain": [
       "[<matplotlib.lines.Line2D at 0x7ff7d7970e48>]"
      ]
     },
     "execution_count": 62,
     "metadata": {},
     "output_type": "execute_result"
    },
    {
     "data": {
      "image/png": "[encoded data removed]",
      "text/plain": [
       "<matplotlib.figure.Figure at 0x7ff7d6b1c8d0>"
      ]
     },
     "metadata": {
      "needs_background": "light"
     },
     "output_type": "display_data"
    }
   ],
   "source": [
    "plt.plot(h['loss'])"
   ]
  },
  {
   "cell_type": "code",
   "execution_count": 63,
   "metadata": {},
   "outputs": [
    {
     "data": {
      "text/plain": [
       "[<matplotlib.lines.Line2D at 0x7ff7d79ef828>]"
      ]
     },
     "execution_count": 63,
     "metadata": {},
     "output_type": "execute_result"
    },
    {
     "data": {
      "image/png": "[encoded data removed]",
      "text/plain": [
       "<matplotlib.figure.Figure at 0x7ff7d79059b0>"
      ]
     },
     "metadata": {
      "needs_background": "light"
     },
     "output_type": "display_data"
    }
   ],
   "source": [
    "plt.plot(h['acc'])"
   ]
  },
  {
   "cell_type": "code",
   "execution_count": 72,
   "metadata": {},
   "outputs": [],
   "source": [
    "result = []\n",
    "rev_labels_id = {0 :\"Bulbasaur\"  , 1 : \"Pikachu\" ,2 : \"Charmander\" }\n",
    "for test_img in test_image_data:\n",
    "    #print(test_img)\n",
    "    img = test_image_data[test_img]\n",
    "    #img = img.reshape(1,-1)\n",
    "    pred = model.predict_classes(img)\n",
    "    label = rev_labels_id[pred[0]] \n",
    "    result.append([test_img,label])"
   ]
  },
  {
   "cell_type": "code",
   "execution_count": null,
   "metadata": {},
   "outputs": [],
   "source": []
  },
  {
   "cell_type": "code",
   "execution_count": 73,
   "metadata": {},
   "outputs": [
    {
     "data": {
      "text/plain": [
       "[['1100.jpg', 'Bulbasaur'],\n",
       " ['1101.jpg', 'Bulbasaur'],\n",
       " ['1102.jpg', 'Bulbasaur'],\n",
       " ['1103.jpg', 'Bulbasaur'],\n",
       " ['1104.jpg', 'Bulbasaur'],\n",
       " ['1105.jpg', 'Bulbasaur'],\n",
       " ['1106.jpg', 'Bulbasaur'],\n",
       " ['1107.jpg', 'Bulbasaur'],\n",
       " ['1108.jpg', 'Bulbasaur'],\n",
       " ['1109.jpg', 'Bulbasaur'],\n",
       " ['1110.jpg', 'Bulbasaur'],\n",
       " ['1111.jpg', 'Bulbasaur'],\n",
       " ['1112.jpg', 'Bulbasaur'],\n",
       " ['1113.jpg', 'Bulbasaur'],\n",
       " ['1114.jpg', 'Bulbasaur'],\n",
       " ['1115.jpg', 'Bulbasaur'],\n",
       " ['1116.jpg', 'Bulbasaur'],\n",
       " ['1117.jpg', 'Bulbasaur'],\n",
       " ['1118.jpg', 'Bulbasaur'],\n",
       " ['1120.jpg', 'Bulbasaur'],\n",
       " ['1121.jpg', 'Bulbasaur'],\n",
       " ['1122.jpg', 'Bulbasaur'],\n",
       " ['1123.jpg', 'Bulbasaur'],\n",
       " ['1124.jpg', 'Bulbasaur'],\n",
       " ['1125.jpg', 'Bulbasaur'],\n",
       " ['1126.jpg', 'Bulbasaur'],\n",
       " ['1127.jpg', 'Bulbasaur'],\n",
       " ['1128.jpg', 'Bulbasaur'],\n",
       " ['1129.jpg', 'Bulbasaur'],\n",
       " ['1130.jpg', 'Bulbasaur'],\n",
       " ['1131.jpg', 'Bulbasaur'],\n",
       " ['1132.jpg', 'Bulbasaur'],\n",
       " ['1133.jpg', 'Bulbasaur'],\n",
       " ['1134.jpg', 'Bulbasaur'],\n",
       " ['1135.jpg', 'Bulbasaur'],\n",
       " ['1136.jpg', 'Bulbasaur'],\n",
       " ['1137.jpg', 'Bulbasaur'],\n",
       " ['1138.jpg', 'Bulbasaur'],\n",
       " ['1140.jpg', 'Bulbasaur'],\n",
       " ['2000.jpg', 'Pikachu'],\n",
       " ['2001.jpg', 'Pikachu'],\n",
       " ['2002.jpg', 'Pikachu'],\n",
       " ['2003.jpg', 'Pikachu'],\n",
       " ['2004.jpg', 'Pikachu'],\n",
       " ['2005.jpg', 'Pikachu'],\n",
       " ['2006.jpg', 'Pikachu'],\n",
       " ['2007.jpg', 'Pikachu'],\n",
       " ['2008.jpg', 'Pikachu'],\n",
       " ['2009.jpg', 'Bulbasaur'],\n",
       " ['2010.jpg', 'Pikachu'],\n",
       " ['2011.jpg', 'Pikachu'],\n",
       " ['2012.jpg', 'Pikachu'],\n",
       " ['2013.jpg', 'Pikachu'],\n",
       " ['2014.jpg', 'Pikachu'],\n",
       " ['2015.jpg', 'Pikachu'],\n",
       " ['2016.jpg', 'Pikachu'],\n",
       " ['2017.jpg', 'Pikachu'],\n",
       " ['2019.jpg', 'Charmander'],\n",
       " ['2020.jpg', 'Pikachu'],\n",
       " ['2021.jpg', 'Pikachu'],\n",
       " ['2022.jpg', 'Pikachu'],\n",
       " ['2023.jpg', 'Pikachu'],\n",
       " ['2024.jpg', 'Pikachu'],\n",
       " ['2025.jpg', 'Charmander'],\n",
       " ['2026.jpg', 'Pikachu'],\n",
       " ['2027.jpg', 'Pikachu'],\n",
       " ['2028.jpg', 'Pikachu'],\n",
       " ['2029.jpg', 'Pikachu'],\n",
       " ['2030.jpg', 'Pikachu'],\n",
       " ['2031.jpg', 'Pikachu'],\n",
       " ['2032.jpg', 'Pikachu'],\n",
       " ['2033.jpg', 'Pikachu'],\n",
       " ['2034.jpg', 'Pikachu'],\n",
       " ['2035.jpg', 'Pikachu'],\n",
       " ['2036.jpg', 'Pikachu'],\n",
       " ['2037.jpg', 'Pikachu'],\n",
       " ['2039.jpg', 'Pikachu'],\n",
       " ['2040.jpg', 'Pikachu'],\n",
       " ['2200.jpg', 'Charmander'],\n",
       " ['2201.jpg', 'Charmander'],\n",
       " ['2202.jpg', 'Charmander'],\n",
       " ['2203.jpg', 'Charmander'],\n",
       " ['2204.jpg', 'Charmander'],\n",
       " ['2205.jpg', 'Charmander'],\n",
       " ['2206.jpg', 'Charmander'],\n",
       " ['2207.jpg', 'Charmander'],\n",
       " ['2208.jpg', 'Charmander'],\n",
       " ['2209.jpg', 'Charmander'],\n",
       " ['2210.jpg', 'Charmander'],\n",
       " ['2211.jpg', 'Charmander'],\n",
       " ['2212.jpg', 'Charmander'],\n",
       " ['2213.jpg', 'Charmander'],\n",
       " ['2214.jpg', 'Charmander'],\n",
       " ['2215.jpg', 'Charmander'],\n",
       " ['2216.jpg', 'Charmander'],\n",
       " ['2218.jpg', 'Charmander'],\n",
       " ['2219.jpg', 'Charmander'],\n",
       " ['2220.jpg', 'Charmander'],\n",
       " ['2221.jpg', 'Charmander'],\n",
       " ['2222.jpg', 'Charmander'],\n",
       " ['2223.jpg', 'Charmander'],\n",
       " ['2224.jpg', 'Charmander'],\n",
       " ['2225.jpg', 'Charmander'],\n",
       " ['2226.jpg', 'Charmander'],\n",
       " ['2227.jpg', 'Charmander'],\n",
       " ['2228.jpg', 'Charmander'],\n",
       " ['2229.jpg', 'Charmander'],\n",
       " ['2230.jpg', 'Charmander'],\n",
       " ['2231.jpg', 'Bulbasaur'],\n",
       " ['2232.jpg', 'Charmander'],\n",
       " ['2233.jpg', 'Charmander'],\n",
       " ['2234.jpg', 'Charmander'],\n",
       " ['2235.jpg', 'Charmander'],\n",
       " ['2236.jpg', 'Charmander'],\n",
       " ['2237.jpg', 'Charmander'],\n",
       " ['2238.jpg', 'Charmander'],\n",
       " ['2239.jpg', 'Charmander'],\n",
       " ['2240.jpg', 'Charmander'],\n",
       " ['1119.jpg', 'Bulbasaur'],\n",
       " ['1139.jpg', 'Bulbasaur'],\n",
       " ['2018.jpg', 'Pikachu'],\n",
       " ['2038.jpg', 'Pikachu'],\n",
       " ['2217.jpg', 'Charmander']]"
      ]
     },
     "execution_count": 73,
     "metadata": {},
     "output_type": "execute_result"
    }
   ],
   "source": [
    "result"
   ]
  },
  {
   "cell_type": "code",
   "execution_count": 74,
   "metadata": {},
   "outputs": [
    {
     "data": {
      "text/plain": [
       "array([2])"
      ]
     },
     "execution_count": 74,
     "metadata": {},
     "output_type": "execute_result"
    }
   ],
   "source": [
    "model.predict_classes(test_image_data['2214.jpg'])"
   ]
  },
  {
   "cell_type": "code",
   "execution_count": 75,
   "metadata": {},
   "outputs": [
    {
     "data": {
      "text/html": [
       "<div>\n",
       "<style scoped>\n",
       "    .dataframe tbody tr th:only-of-type {\n",
       "        vertical-align: middle;\n",
       "    }\n",
       "\n",
       "    .dataframe tbody tr th {\n",
       "        vertical-align: top;\n",
       "    }\n",
       "\n",
       "    .dataframe thead th {\n",
       "        text-align: right;\n",
       "    }\n",
       "</style>\n",
       "<table border=\"1\" class=\"dataframe\">\n",
       "  <thead>\n",
       "    <tr style=\"text-align: right;\">\n",
       "      <th></th>\n",
       "      <th>ImageId</th>\n",
       "      <th>NameOfPokemon</th>\n",
       "    </tr>\n",
       "  </thead>\n",
       "  <tbody>\n",
       "    <tr>\n",
       "      <th>0</th>\n",
       "      <td>1100.jpg</td>\n",
       "      <td>Bulbasaur</td>\n",
       "    </tr>\n",
       "    <tr>\n",
       "      <th>1</th>\n",
       "      <td>1101.jpg</td>\n",
       "      <td>Bulbasaur</td>\n",
       "    </tr>\n",
       "    <tr>\n",
       "      <th>2</th>\n",
       "      <td>1102.jpg</td>\n",
       "      <td>Bulbasaur</td>\n",
       "    </tr>\n",
       "    <tr>\n",
       "      <th>3</th>\n",
       "      <td>1103.jpg</td>\n",
       "      <td>Bulbasaur</td>\n",
       "    </tr>\n",
       "    <tr>\n",
       "      <th>4</th>\n",
       "      <td>1104.jpg</td>\n",
       "      <td>Bulbasaur</td>\n",
       "    </tr>\n",
       "  </tbody>\n",
       "</table>\n",
       "</div>"
      ],
      "text/plain": [
       "    ImageId NameOfPokemon\n",
       "0  1100.jpg     Bulbasaur\n",
       "1  1101.jpg     Bulbasaur\n",
       "2  1102.jpg     Bulbasaur\n",
       "3  1103.jpg     Bulbasaur\n",
       "4  1104.jpg     Bulbasaur"
      ]
     },
     "execution_count": 75,
     "metadata": {},
     "output_type": "execute_result"
    }
   ],
   "source": [
    "pred_result = pd.DataFrame(result,columns = [\"ImageId\" , \"NameOfPokemon\"])\n",
    "pred_result.head(5)"
   ]
  },
  {
   "cell_type": "code",
   "execution_count": 76,
   "metadata": {},
   "outputs": [],
   "source": [
    "pred_result.to_csv(\"Test/predMLP.csv\",index = False)"
   ]
  },
  {
   "cell_type": "code",
   "execution_count": null,
   "metadata": {},
   "outputs": [],
   "source": []
  }
 ],
 "metadata": {
  "kernelspec": {
   "display_name": "Python 3",
   "language": "python",
   "name": "python3"
  },
  "language_info": {
   "codemirror_mode": {
    "name": "ipython",
    "version": 3
   },
   "file_extension": ".py",
   "mimetype": "text/x-python",
   "name": "python",
   "nbconvert_exporter": "python",
   "pygments_lexer": "ipython3",
   "version": "3.6.8"
  }
 },
 "nbformat": 4,
 "nbformat_minor": 2
}
