{
 "cells": [
  {
   "cell_type": "code",
   "execution_count": 6,
   "metadata": {},
   "outputs": [
    {
     "name": "stdout",
     "output_type": "stream",
     "text": [
      "8\n"
     ]
    }
   ],
   "source": [
    "l = list(map(int,input().split()))\n"
   ]
  },
  {
   "cell_type": "code",
   "execution_count": 10,
   "metadata": {},
   "outputs": [
    {
     "name": "stdout",
     "output_type": "stream",
     "text": [
      "1\n",
      "2\n",
      "88\n",
      "-100\n",
      "-9\n"
     ]
    }
   ],
   "source": [
    "sum=0\n",
    "while(sum>=0):\n",
    "    N=input()\n",
    "    sum+=int(N)\n",
    "print(sum)"
   ]
  },
  {
   "cell_type": "code",
   "execution_count": 38,
   "metadata": {},
   "outputs": [
    {
     "name": "stdout",
     "output_type": "stream",
     "text": [
      "10\n",
      "1 2 3 4 5 6 7 8 9 10 \n",
      "1 2 3 4 5 6 7 8 9 * \n",
      "1 2 3 4 5 6 7 8 * * * \n",
      "1 2 3 4 5 6 7 * * * * * \n",
      "1 2 3 4 5 6 * * * * * * * \n",
      "1 2 3 4 5 * * * * * * * * * \n",
      "1 2 3 4 * * * * * * * * * * * \n",
      "1 2 3 * * * * * * * * * * * * * \n",
      "1 2 * * * * * * * * * * * * * * * \n",
      "1 * * * * * * * * * * * * * * * * * \n"
     ]
    }
   ],
   "source": [
    "n = int(input())\n",
    "\n",
    "for i in range(0,n):\n",
    "    for j in range(1,n-i+1):\n",
    "        print(j,end =\" \")\n",
    "    for k in range(2*(i-1) + 1):\n",
    "        print('*',end =\" \")\n",
    "    print()"
   ]
  },
  {
   "cell_type": "code",
   "execution_count": null,
   "metadata": {},
   "outputs": [],
   "source": [
    "print(range(5))"
   ]
  },
  {
   "cell_type": "code",
   "execution_count": 87,
   "metadata": {},
   "outputs": [],
   "source": [
    "\n",
    "def pytha(n):\n",
    "    A = int((n)**.5)\n",
    "    l = [False]*(A+1)\n",
    "    for i in range(A+1):\n",
    "        for j in range(A+1):\n",
    "            if(i**2 + j**2 == n ):\n",
    "                if(l[i]==False and l[j] == False):\n",
    "                    print(\"({},{})\".format(i,j),end = \" \")\n",
    "                l[i] = True\n",
    "                l[j] = True\n",
    "                \n"
   ]
  },
  {
   "cell_type": "code",
   "execution_count": 89,
   "metadata": {},
   "outputs": [
    {
     "name": "stdout",
     "output_type": "stream",
     "text": [
      "(0,3) "
     ]
    }
   ],
   "source": [
    "pytha(9)\n",
    "#l = [True]*5\n",
    "#l"
   ]
  },
  {
   "cell_type": "code",
   "execution_count": 44,
   "metadata": {},
   "outputs": [
    {
     "data": {
      "text/plain": [
       "5"
      ]
     },
     "execution_count": 44,
     "metadata": {},
     "output_type": "execute_result"
    }
   ],
   "source": [
    "int(((35)**.5))"
   ]
  },
  {
   "cell_type": "code",
   "execution_count": 91,
   "metadata": {},
   "outputs": [],
   "source": [
    "def isPrime(n) : \n",
    "  \n",
    "   \n",
    "    if (n <= 1) : \n",
    "        return False\n",
    "    if (n <= 3) : \n",
    "        return True\n",
    "  \n",
    "    if (n % 2 == 0 or n % 3 == 0) : \n",
    "        return False\n",
    "  \n",
    "    i = 5\n",
    "    while(i * i <= n) : \n",
    "        if (n % i == 0 or n % (i + 2) == 0) : \n",
    "            return False\n",
    "        i = i + 6\n",
    "  \n",
    "    return True"
   ]
  },
  {
   "cell_type": "code",
   "execution_count": 94,
   "metadata": {},
   "outputs": [
    {
     "name": "stdout",
     "output_type": "stream",
     "text": [
      "25\n",
      "False\n"
     ]
    }
   ],
   "source": [
    "print(isPrime(int(input())))"
   ]
  },
  {
   "cell_type": "code",
   "execution_count": 95,
   "metadata": {},
   "outputs": [
    {
     "name": "stdout",
     "output_type": "stream",
     "text": [
      "1 10\n"
     ]
    }
   ],
   "source": [
    "n , m = map(int,input().split())"
   ]
  },
  {
   "cell_type": "code",
   "execution_count": 97,
   "metadata": {},
   "outputs": [
    {
     "data": {
      "text/plain": [
       "int"
      ]
     },
     "execution_count": 97,
     "metadata": {},
     "output_type": "execute_result"
    }
   ],
   "source": [
    "type(m)"
   ]
  },
  {
   "cell_type": "code",
   "execution_count": 112,
   "metadata": {},
   "outputs": [
    {
     "name": "stdout",
     "output_type": "stream",
     "text": [
      "1\n",
      "1 100000\n",
      "--- 7.569589138031006 seconds ---\n"
     ]
    }
   ],
   "source": [
    "def isPrime(n) : \n",
    "  \n",
    "   \n",
    "    if (n <= 1) : \n",
    "        return False\n",
    "    if (n <= 3) : \n",
    "        return True\n",
    "  \n",
    "    if (n % 2 == 0 or n % 3 == 0) : \n",
    "        return False\n",
    "  \n",
    "    i = 5\n",
    "    while(i * i <= n) : \n",
    "        if (n % i == 0 or n % (i + 2) == 0) : \n",
    "            return False\n",
    "        i = i + 6\n",
    "  \n",
    "    return True\n",
    "\n",
    "start_time = time.time()\n",
    "t = int(input())\n",
    "for i in range(t):\n",
    "    n , m = map(int,input().split())\n",
    "    for j in range(n,m+1):\n",
    "        isPrime(j)\n",
    "            #print(j,sep = \" \")\n",
    "#print()\n",
    "\n",
    "print(\"--- %s seconds ---\" % (time.time() - start_time))"
   ]
  },
  {
   "cell_type": "code",
   "execution_count": 99,
   "metadata": {},
   "outputs": [],
   "source": [
    "import time"
   ]
  },
  {
   "cell_type": "code",
   "execution_count": 108,
   "metadata": {},
   "outputs": [],
   "source": [
    "def gen_prime(start ,end):\n",
    "    for val in range(start, end + 1): \n",
    "        if val > 1: \n",
    "            for n in range(2, val): \n",
    "                if (val % n) == 0: \n",
    "                    break\n",
    "        else: \n",
    "            print()"
   ]
  },
  {
   "cell_type": "code",
   "execution_count": 111,
   "metadata": {},
   "outputs": [
    {
     "name": "stdout",
     "output_type": "stream",
     "text": [
      "\n",
      "--- 23.311728477478027 seconds ---\n"
     ]
    }
   ],
   "source": [
    "start_time = time.time()\n",
    "gen_prime(1,100000)\n",
    "print(\"--- %s seconds ---\" % (time.time() - start_time))"
   ]
  },
  {
   "cell_type": "code",
   "execution_count": 114,
   "metadata": {},
   "outputs": [
    {
     "name": "stdout",
     "output_type": "stream",
     "text": [
      "5\n",
      "3\n",
      "6\n",
      "4\n",
      "1\n",
      "2\n"
     ]
    }
   ],
   "source": [
    "n = int(input())\n",
    "\n",
    "l = [int(input()) for i in range(n)]"
   ]
  },
  {
   "cell_type": "code",
   "execution_count": 115,
   "metadata": {},
   "outputs": [
    {
     "data": {
      "text/plain": [
       "[3, 6, 4, 1, 2]"
      ]
     },
     "execution_count": 115,
     "metadata": {},
     "output_type": "execute_result"
    }
   ],
   "source": [
    "l"
   ]
  },
  {
   "cell_type": "code",
   "execution_count": 121,
   "metadata": {},
   "outputs": [],
   "source": [
    "def quicksort(l,start,end):\n",
    "    if start < end :\n",
    "        part = partition(l,start,end)\n",
    "        \n",
    "        quicksort(l,start,part-1)\n",
    "        quicksort(l,part+1,end)\n",
    "        \n",
    "def partition(l,start,end):\n",
    "    i = start-1\n",
    "    pivot = l[end]\n",
    "    \n",
    "    for j in range(start,end):\n",
    "        \n",
    "        if(l[j]<=pivot):\n",
    "            i = i+1\n",
    "            l[i],l[j] = l[j],l[i]\n",
    "    l[end] , l[i+1] = l[i+1],l[end]\n",
    "    return (i+1)\n",
    "    "
   ]
  },
  {
   "cell_type": "code",
   "execution_count": 146,
   "metadata": {},
   "outputs": [],
   "source": [
    "def quicksort(arr):\n",
    "    if len(arr) <= 1:\n",
    "        return arr\n",
    "    pivot = arr[len(arr) // 2]\n",
    "    left = [x for x in arr if x < pivot]\n",
    "    middle = [x for x in arr if x == pivot]\n",
    "    right = [x for x in arr if x > pivot]\n",
    "    return quicksort(left) + middle + quicksort(right)"
   ]
  },
  {
   "cell_type": "code",
   "execution_count": 123,
   "metadata": {},
   "outputs": [],
   "source": [
    "quicksort(l,0,len(l)-1)"
   ]
  },
  {
   "cell_type": "code",
   "execution_count": 127,
   "metadata": {},
   "outputs": [
    {
     "name": "stdout",
     "output_type": "stream",
     "text": [
      "1 2 3 4 6 "
     ]
    }
   ],
   "source": [
    "for item in l:\n",
    "    print(item , end = \" \")"
   ]
  },
  {
   "cell_type": "code",
   "execution_count": 141,
   "metadata": {},
   "outputs": [],
   "source": [
    "def mergeSort(arr): \n",
    "    if len(arr) >1: \n",
    "        mid = len(arr)//2 #Finding the mid of the array \n",
    "        L = arr[:mid] # Dividing the array elements  \n",
    "        R = arr[mid:] # into 2 halves \n",
    "  \n",
    "        mergeSort(L) # Sorting the first half \n",
    "        mergeSort(R) # Sorting the second half \n",
    "  \n",
    "        i = j = k = 0\n",
    "          \n",
    "        # Copy data to temp arrays L[] and R[] \n",
    "        while i < len(L) and j < len(R): \n",
    "            if L[i] < R[j]: \n",
    "                arr[k] = L[i] \n",
    "                i+=1\n",
    "            else: \n",
    "                arr[k] = R[j] \n",
    "                j+=1\n",
    "            k+=1\n",
    "          \n",
    "        # Checking if any element was left \n",
    "        while i < len(L): \n",
    "            arr[k] = L[i] \n",
    "            i+=1\n",
    "            k+=1\n",
    "          \n",
    "        while j < len(R): \n",
    "            arr[k] = R[j] \n",
    "            j+=1\n",
    "            k+=1"
   ]
  },
  {
   "cell_type": "code",
   "execution_count": 114,
   "metadata": {},
   "outputs": [],
   "source": [
    "def mergesort(arr,l,r):\n",
    "    if(l < r):\n",
    "        m = int(l + (r-l)/2)\n",
    "        #print(\"m = \",m)\n",
    "        L = mergesort(arr,l,m)\n",
    "        R = mergesort(arr,m+1,r)\n",
    "        #print(L,R)\n",
    "        arr = merge(L,R)\n",
    "        \n",
    "        return arr\n",
    "    else:\n",
    "        return arr[l:r+1]\n",
    "        \n",
    "def merge(L=[],R =[]):\n",
    "    if(len(L)==0 and len(R)==0 ):\n",
    "        return L+R\n",
    "    new_arr = []\n",
    "    #print(\"left arr\" , L)\n",
    "    #print(\"right arr\" , R)\n",
    "    i = j = 0\n",
    "    \n",
    "    while(i<len(L) and j <len(R)):\n",
    "        if(L[i]<=R[j]):\n",
    "            new_arr.append(L[i])\n",
    "            i+=1\n",
    "            \n",
    "        else:\n",
    "            new_arr.append(R[j])\n",
    "            j+=1\n",
    "            \n",
    "    while(i<len(L)):\n",
    "        new_arr.append(L[i])\n",
    "        i+=1\n",
    "        \n",
    "    while(j<len(R)):\n",
    "        new_arr.append(R[j])\n",
    "        j+=1\n",
    "    #print(new_arr)\n",
    "    return new_arr"
   ]
  },
  {
   "cell_type": "code",
   "execution_count": 115,
   "metadata": {},
   "outputs": [
    {
     "data": {
      "text/plain": [
       "[1, 3, 5, 6, 7, 8]"
      ]
     },
     "execution_count": 115,
     "metadata": {},
     "output_type": "execute_result"
    }
   ],
   "source": [
    "arr = [8,5,1,7,3,6]\n",
    "n = mergesort(arr,0,5)\n",
    "n"
   ]
  },
  {
   "cell_type": "code",
   "execution_count": 131,
   "metadata": {},
   "outputs": [
    {
     "name": "stdout",
     "output_type": "stream",
     "text": [
      "5\n",
      "5\n",
      "4\n",
      "4\n",
      "8\n",
      "8\n",
      "6\n",
      "6\n",
      "\n"
     ]
    }
   ],
   "source": [
    "arr = []\n",
    "flag = True\n",
    "while(flag):\n",
    "    l = input()\n",
    "    arr\n",
    "    if(len(l) == 0):\n",
    "        break\n",
    "    print(l)"
   ]
  },
  {
   "cell_type": "markdown",
   "metadata": {},
   "source": [
    "## Genrate Paranthesis"
   ]
  },
  {
   "cell_type": "code",
   "execution_count": 5,
   "metadata": {},
   "outputs": [],
   "source": [
    "def genPar(openB,closeB,n,s=[]):\n",
    "    if(closeB==n):\n",
    "        print(''.join(s))\n",
    "        return \n",
    "    \n",
    "    else:\n",
    "        if(openB>closeB):\n",
    "            s.append(')')\n",
    "            genPar(openB,closeB+1,n,s)\n",
    "            s.pop()\n",
    "        if(openB<n):\n",
    "            s.append(\"(\")\n",
    "            genPar(openB+1,closeB,n,s)\n",
    "            s.pop()\n",
    "    return\n",
    "\n",
    "\n"
   ]
  },
  {
   "cell_type": "code",
   "execution_count": 6,
   "metadata": {},
   "outputs": [
    {
     "name": "stdout",
     "output_type": "stream",
     "text": [
      "()()()\n",
      "()(())\n",
      "(())()\n",
      "(()())\n",
      "((()))\n"
     ]
    }
   ],
   "source": [
    "genPar(0,0,3)"
   ]
  },
  {
   "cell_type": "code",
   "execution_count": null,
   "metadata": {},
   "outputs": [],
   "source": []
  }
 ],
 "metadata": {
  "kernelspec": {
   "display_name": "Python 3",
   "language": "python",
   "name": "python3"
  },
  "language_info": {
   "codemirror_mode": {
    "name": "ipython",
    "version": 3
   },
   "file_extension": ".py",
   "mimetype": "text/x-python",
   "name": "python",
   "nbconvert_exporter": "python",
   "pygments_lexer": "ipython3",
   "version": "3.6.8"
  }
 },
 "nbformat": 4,
 "nbformat_minor": 2
}
