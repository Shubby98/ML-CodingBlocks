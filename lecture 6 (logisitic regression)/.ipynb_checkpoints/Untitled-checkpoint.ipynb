{
 "cells": [
  {
   "cell_type": "code",
   "execution_count": 73,
   "metadata": {},
   "outputs": [],
   "source": [
    "import numpy as np\n",
    "import pandas as pd\n",
    "import matplotlib.pyplot as plt"
   ]
  },
  {
   "cell_type": "code",
   "execution_count": 74,
   "metadata": {},
   "outputs": [],
   "source": [
    "u1 = np.array([1,0.5])\n",
    "cov1 = np.array([[1,0.1],[0.1,1.4]])\n",
    "\n",
    "u2 = np.array([5,5.5])\n",
    "cov2 = np.array([[1.2,0.1],[0.1,1.3]])"
   ]
  },
  {
   "cell_type": "code",
   "execution_count": 75,
   "metadata": {},
   "outputs": [
    {
     "name": "stdout",
     "output_type": "stream",
     "text": [
      "(400, 2)\n",
      "(400, 2)\n"
     ]
    }
   ],
   "source": [
    "dist_1  = np.random.multivariate_normal(u1,cov1,400)\n",
    "dist_2  = np.random.multivariate_normal(u2,cov2,400)\n",
    "\n",
    "print(dist_1.shape)\n",
    "print(dist_2.shape)"
   ]
  },
  {
   "cell_type": "code",
   "execution_count": 76,
   "metadata": {},
   "outputs": [
    {
     "data": {
      "image/png": "[encoded data removed]",
      "text/plain": [
       "<matplotlib.figure.Figure at 0x7f13aee98cc0>"
      ]
     },
     "metadata": {
      "needs_background": "light"
     },
     "output_type": "display_data"
    }
   ],
   "source": [
    "plt.scatter(dist_1[:,0],dist_1[:,1])\n",
    "plt.scatter(dist_2[:,0],dist_2[:,1])\n",
    "plt.show()"
   ]
  },
  {
   "cell_type": "code",
   "execution_count": 77,
   "metadata": {},
   "outputs": [
    {
     "name": "stdout",
     "output_type": "stream",
     "text": [
      "800\n"
     ]
    }
   ],
   "source": [
    "total = dist_1.shape[0] + dist_2.shape[0]\n",
    "print(total)"
   ]
  },
  {
   "cell_type": "code",
   "execution_count": 78,
   "metadata": {},
   "outputs": [],
   "source": [
    "data = np.zeros((total,3))"
   ]
  },
  {
   "cell_type": "code",
   "execution_count": 79,
   "metadata": {},
   "outputs": [],
   "source": [
    "data[:400,:-1] = dist_1\n",
    "data[400:,:-1] = dist_2\n",
    "data[400:,-1] = 1"
   ]
  },
  {
   "cell_type": "code",
   "execution_count": 80,
   "metadata": {},
   "outputs": [
    {
     "data": {
      "text/plain": [
       "array([[ 0.15471958,  1.21224223,  0.        ],\n",
       "       [ 2.75699863,  0.26098997,  0.        ],\n",
       "       [-0.21843179,  0.43601171,  0.        ],\n",
       "       ..., \n",
       "       [ 4.70933865,  5.84981761,  1.        ],\n",
       "       [ 4.68331554,  6.44129949,  1.        ],\n",
       "       [ 5.20969712,  5.12535932,  1.        ]])"
      ]
     },
     "execution_count": 80,
     "metadata": {},
     "output_type": "execute_result"
    }
   ],
   "source": [
    "data"
   ]
  },
  {
   "cell_type": "code",
   "execution_count": 81,
   "metadata": {},
   "outputs": [
    {
     "name": "stdout",
     "output_type": "stream",
     "text": [
      "[[ 5.32333612  2.81534481  1.        ]\n",
      " [ 1.64141933  1.12376755  0.        ]\n",
      " [ 0.79617257 -0.47754874  0.        ]\n",
      " ..., \n",
      " [ 5.03454997  5.48318376  1.        ]\n",
      " [ 3.71711438  3.52690664  1.        ]\n",
      " [ 3.9715753   2.83995409  1.        ]]\n"
     ]
    }
   ],
   "source": [
    " np.random.shuffle(data)\n",
    "print(data)"
   ]
  },
  {
   "cell_type": "code",
   "execution_count": 82,
   "metadata": {},
   "outputs": [
    {
     "name": "stdout",
     "output_type": "stream",
     "text": [
      "[[ 1.00827906  0.81517761  1.        ]\n",
      " [-0.60999311 -0.51196003  0.        ]\n",
      " [-0.98149507 -0.8166271   0.        ]\n",
      " ..., \n",
      " [ 0.88135208  0.71108537  1.        ]\n",
      " [ 0.30231418  0.23621902  1.        ]\n",
      " [ 0.41415458  0.32793882  1.        ]]\n"
     ]
    }
   ],
   "source": [
    "#normalizing data\n",
    "\n",
    "u = np.mean(data[:,:-1],axis = 0)\n",
    "sigma = np.std(data[:,:-1],axis = 0)\n",
    "\n",
    "data[:,:-1] = (data[:,:1]-u)/sigma\n",
    "print(data)"
   ]
  },
  {
   "cell_type": "code",
   "execution_count": 83,
   "metadata": {},
   "outputs": [
    {
     "name": "stdout",
     "output_type": "stream",
     "text": [
      "(800, 1)\n"
     ]
    }
   ],
   "source": [
    "ones = np.ones((data.shape[0],1),dtype='float32')\n",
    "print(ones.shape)"
   ]
  },
  {
   "cell_type": "code",
   "execution_count": 84,
   "metadata": {},
   "outputs": [
    {
     "name": "stdout",
     "output_type": "stream",
     "text": [
      "[[ 1.          1.00827906  0.81517761  1.        ]\n",
      " [ 1.         -0.60999311 -0.51196003  0.        ]\n",
      " [ 1.         -0.98149507 -0.8166271   0.        ]\n",
      " ..., \n",
      " [ 1.          0.88135208  0.71108537  1.        ]\n",
      " [ 1.          0.30231418  0.23621902  1.        ]\n",
      " [ 1.          0.41415458  0.32793882  1.        ]]\n"
     ]
    }
   ],
   "source": [
    "final_data = np.hstack((ones,data))\n",
    "print(final_data)"
   ]
  },
  {
   "cell_type": "code",
   "execution_count": 85,
   "metadata": {},
   "outputs": [
    {
     "data": {
      "image/png": "[encoded data removed]",
      "text/plain": [
       "<matplotlib.figure.Figure at 0x7f13af5e9940>"
      ]
     },
     "metadata": {
      "needs_background": "light"
     },
     "output_type": "display_data"
    }
   ],
   "source": [
    "plt.scatter(final_data[:,1],final_data[:,2],c = final_data[:,3])\n",
    "plt.show()"
   ]
  },
  {
   "cell_type": "code",
   "execution_count": null,
   "metadata": {},
   "outputs": [],
   "source": []
  },
  {
   "cell_type": "code",
   "execution_count": 86,
   "metadata": {},
   "outputs": [
    {
     "name": "stdout",
     "output_type": "stream",
     "text": [
      "640\n"
     ]
    }
   ],
   "source": [
    "split  = int(0.8*total)\n",
    "print(split)"
   ]
  },
  {
   "cell_type": "code",
   "execution_count": 87,
   "metadata": {},
   "outputs": [],
   "source": [
    "X_train = final_data[:split,:-1]\n",
    "X_test = final_data[split:,:-1]\n",
    "\n",
    "Y_train = final_data[:split,-1]\n",
    "Y_test = final_data[split:,-1]"
   ]
  },
  {
   "cell_type": "code",
   "execution_count": 88,
   "metadata": {},
   "outputs": [
    {
     "name": "stdout",
     "output_type": "stream",
     "text": [
      "(640, 3) (160, 3)\n",
      "(640,) (160,)\n"
     ]
    }
   ],
   "source": [
    "print(X_train.shape,X_test.shape)\n",
    "print(Y_train.shape,Y_test.shape)"
   ]
  },
  {
   "cell_type": "code",
   "execution_count": 89,
   "metadata": {},
   "outputs": [
    {
     "data": {
      "text/plain": [
       "array([ 1.        , -0.01341726, -0.0227109 ])"
      ]
     },
     "execution_count": 89,
     "metadata": {},
     "output_type": "execute_result"
    }
   ],
   "source": [
    "np.mean(X_train,axis = 0)"
   ]
  },
  {
   "cell_type": "markdown",
   "metadata": {},
   "source": [
    "# Logistic Regression"
   ]
  },
  {
   "cell_type": "code",
   "execution_count": 37,
   "metadata": {},
   "outputs": [],
   "source": [
    "\n",
    "def sigmoid(z):\n",
    "    return 1/(1+np.exp(-z))\n",
    "\n"
   ]
  },
  {
   "cell_type": "code",
   "execution_count": 38,
   "metadata": {},
   "outputs": [],
   "source": [
    "def hypothesis(x,theta):\n",
    "    return sigmoid(np.dot(x,theta))"
   ]
  },
  {
   "cell_type": "code",
   "execution_count": 39,
   "metadata": {},
   "outputs": [],
   "source": [
    "def error(Y,X,theta):\n",
    "    m = X.shape[0]\n",
    "    total_error = 0\n",
    "    \n",
    "    for i in range(m):\n",
    "        y_hat = hypothesis(X[i],theta)\n",
    "        total_error += -(Y[i]*np.log2(y_hat)+ (1 - Y[i])*np.log(1-y_hat))\n",
    "        \n",
    "    return total_error/m\n",
    "    "
   ]
  },
  {
   "cell_type": "code",
   "execution_count": 40,
   "metadata": {},
   "outputs": [],
   "source": [
    "def get_grad(Y,X,theta):\n",
    "    \n",
    "    grad = np.zeros(theta.shape)\n",
    "    \n",
    "    for i in range(grad):\n",
    "        y_hat = hypothesis(X[i],theta)\n",
    "        grad += (Y[i] - y_hat )*X[i]\n",
    "    \n",
    "    return grad/m"
   ]
  },
  {
   "cell_type": "code",
   "execution_count": 41,
   "metadata": {},
   "outputs": [],
   "source": [
    "def grad_descent(X,Y,learning_rate = 0.1):\n",
    "    theta = np.zeros((X.shape[1],1))\n",
    "    \n",
    "    error_list = []\n",
    "    \n",
    "    for i in range(50):\n",
    "        theta = theta - learning_rate*get_grad(Y,X,theta)\n",
    "        e = error(Y,X,theta)\n",
    "        error_list.append(e)\n",
    "        \n",
    "    return theta,error_list"
   ]
  },
  {
   "cell_type": "code",
   "execution_count": null,
   "metadata": {},
   "outputs": [],
   "source": [
    "theta ,error = grad_descent(X,Y,)"
   ]
  }
 ],
 "metadata": {
  "kernelspec": {
   "display_name": "Python 3",
   "language": "python",
   "name": "python3"
  },
  "language_info": {
   "codemirror_mode": {
    "name": "ipython",
    "version": 3
   },
   "file_extension": ".py",
   "mimetype": "text/x-python",
   "name": "python",
   "nbconvert_exporter": "python",
   "pygments_lexer": "ipython3",
   "version": "3.6.8"
  }
 },
 "nbformat": 4,
 "nbformat_minor": 2
}
