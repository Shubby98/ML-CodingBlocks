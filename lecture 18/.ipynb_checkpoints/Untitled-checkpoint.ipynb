{
 "cells": [
  {
   "cell_type": "code",
   "execution_count": 1,
   "metadata": {},
   "outputs": [],
   "source": [
    "def load_file(path):\n",
    "    with open(path,encoding = 'utf-8') as f:\n",
    "        data = f.read()\n",
    "        \n",
    "    return data"
   ]
  },
  {
   "cell_type": "code",
   "execution_count": 5,
   "metadata": {},
   "outputs": [],
   "source": [
    "data = load_file(\"lyrics.txt\")"
   ]
  },
  {
   "cell_type": "code",
   "execution_count": 6,
   "metadata": {},
   "outputs": [
    {
     "data": {
      "text/plain": [
       "'बेखयाली में भी तेरा ही खयाल आए\\n\"क्यूँ बिछड़ना है ज़रूरी?\" ये सवाल आए\\nतेरी नज़दीकियों की ख़ुशी बेहिसाब थी\\nहिस्से में फ़ासले भी तेरे बेमिसाल आए\\nमैं जो तुमसे दूर हूँ, क्यूँ दूर मैं रहूँ?\\nतेरा गुरुर हूँ\\nआ तू फ़ासला मिटा, तू ख्वाब सा मिला\\nक्यूँ ख्वाब तोड़ दूँ?\\nबेखयाली में भी तेरा ही खयाल आए\\n\"क्यूँ जुदाई दे गया तू?\" ये सवाल आए\\nथोड़ा सा मैं खफ़ा हो गया अपने आप से\\nथोड़ा सा तुझपे भी बेवजह ही मलाल आए\\nहै ये तड़पन, है ये उलझन\\nकैसे जी लूँ बिना तेरे?\\nमेरी अब सब से है अनबन\\nबनते क्यूँ ये खुदा मेरे?\\nये जो लोग-बाग हैं, जंगल की आग हैं\\nक्यूँ आग में जलूँ?\\nये नाकाम प्यार में, खुश हैं ये हार में\\nइन जैसा क्यूँ बनूँ?\\nरातें देंगी बता, नीदों में तेरी ही बात है\\nभूलूँ कैसे तुझे? तू तो ख्यालों में साथ है\\nबेखयाली में भी तेरा ही खयाल आए\\n\"क्यूँ बिछड़ना है ज़रूरी?\" ये सवाल आए\\nनज़र के आगे हर एक मंज़र रेत की तरह बिखर रहा है\\nदर्द तुम्हारा बदन में मेरे ज़हर की तरह उतर रहा है\\nनज़र के आगे हर एक मंज़र रेत की तरह बिखर रहा है\\nदर्द तुम्हारा बदन में मेरे ज़हर की तरह उतर रहा है\\nआ ज़माने, आज़मा ले, रूठता नहीं\\nफ़ासलों से हौसला ये टूटता नहीं\\nना है वो बेवफ़ा और ना मैं हूँ बेवफ़ा\\nवो मेरी आदतों की तरह छूटता नहीं'"
      ]
     },
     "execution_count": 6,
     "metadata": {},
     "output_type": "execute_result"
    }
   ],
   "source": [
    "data"
   ]
  },
  {
   "cell_type": "code",
   "execution_count": 7,
   "metadata": {},
   "outputs": [],
   "source": [
    "text = \"hi hello helo hell it is ML class\""
   ]
  },
  {
   "cell_type": "code",
   "execution_count": 9,
   "metadata": {},
   "outputs": [],
   "source": [
    "def genTransitionTable(text):\n",
    "    T = {}\n",
    "    k = 4\n",
    "\n",
    "    for i in range(len(text)-k):\n",
    "        X = text[i:i+k]\n",
    "        Y = text[i+k]\n",
    "        \n",
    "        if T.get(X) is None:\n",
    "            T[X] = {}\n",
    "            T[X][Y] = 1\n",
    "        \n",
    "        else:\n",
    "            if T[X].get(Y) is None:\n",
    "                T[X][Y] = 1\n",
    "            else:\n",
    "                T[X][Y] += 1\n",
    "\n",
    "    #Normalise\n",
    "    for kx in T.keys():\n",
    "        s = 0\n",
    "        for v in T[kx].values():\n",
    "            s += v\n",
    "            \n",
    "    \n",
    "    return T\n",
    "    \n",
    "    "
   ]
  },
  {
   "cell_type": "code",
   "execution_count": null,
   "metadata": {},
   "outputs": [],
   "source": [
    "get\n"
   ]
  }
 ],
 "metadata": {
  "kernelspec": {
   "display_name": "Python 3",
   "language": "python",
   "name": "python3"
  },
  "language_info": {
   "codemirror_mode": {
    "name": "ipython",
    "version": 3
   },
   "file_extension": ".py",
   "mimetype": "text/x-python",
   "name": "python",
   "nbconvert_exporter": "python",
   "pygments_lexer": "ipython3",
   "version": "3.6.8"
  }
 },
 "nbformat": 4,
 "nbformat_minor": 2
}
