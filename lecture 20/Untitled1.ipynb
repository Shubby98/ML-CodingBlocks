{
 "cells": [
  {
   "cell_type": "code",
   "execution_count": 2,
   "metadata": {},
   "outputs": [],
   "source": [
    "from keras.datasets import cifar10\n",
    "from keras.layers import Conv2D,MaxPool2D ,Flatten , Dense ,Dropout\n",
    "import matplotlib.pyplot as plt\n",
    "from keras.models import Sequential"
   ]
  },
  {
   "cell_type": "code",
   "execution_count": null,
   "metadata": {},
   "outputs": [],
   "source": [
    "model = Sequential()\n",
    "model.add(Conv2D(filters = 96 ,kernel_size = (11,11) ,stride = 4, activation = 'relu'))\n",
    "model.add(MaxPool2D(kernel_size = (3,3)))\n",
    "model.add(Conv2D(filters = 256 ,kernel_size = (5,5) ,strides = 1 ,padding = 2, activation = 'relu'))\n",
    "model.add(MaxPool2D(kernel_size = (3,3) , strides = 2))\n",
    "model.add(Conv2D(filters = 384 ,kernel_size = (3,3) ,strides = 1 ,padding = 1, activation = 'relu'))\n",
    "model.add(Conv2D(filters = 384 ,kernel_size = (3,3) ,strides = 1 ,padding = 1, activation = 'relu'))\n",
    "model.add(Conv2D(filters = 256 ,kernel_size = (3,3) ,strides = 1 ,padding = 1, activation = 'relu'))\n"
   ]
  }
 ],
 "metadata": {
  "kernelspec": {
   "display_name": "Python 3",
   "language": "python",
   "name": "python3"
  },
  "language_info": {
   "codemirror_mode": {
    "name": "ipython",
    "version": 3
   },
   "file_extension": ".py",
   "mimetype": "text/x-python",
   "name": "python",
   "nbconvert_exporter": "python",
   "pygments_lexer": "ipython3",
   "version": "3.6.8"
  }
 },
 "nbformat": 4,
 "nbformat_minor": 2
}
